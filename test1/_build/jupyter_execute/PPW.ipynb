{
 "cells": [
  {
   "cell_type": "markdown",
   "metadata": {
    "id": "IdN4k7QE7t2e"
   },
   "source": [
    "# instal scrapy, untuk scraping web"
   ]
  },
  {
   "cell_type": "code",
   "execution_count": 1,
   "metadata": {
    "colab": {
     "base_uri": "https://localhost:8080/"
    },
    "id": "jWbVh7CJ2Yde",
    "outputId": "3b85e373-5024-4a86-927a-b711ec639532"
   },
   "outputs": [
    {
     "name": "stderr",
     "output_type": "stream",
     "text": [
      "WARNING: Ignoring invalid distribution -ip (c:\\users\\asus\\appdata\\local\\programs\\python\\python38-32\\lib\\site-packages)\n",
      "WARNING: Ignoring invalid distribution -ip (c:\\users\\asus\\appdata\\local\\programs\\python\\python38-32\\lib\\site-packages)\n",
      "WARNING: Ignoring invalid distribution -ip (c:\\users\\asus\\appdata\\local\\programs\\python\\python38-32\\lib\\site-packages)\n",
      "WARNING: Ignoring invalid distribution -ip (c:\\users\\asus\\appdata\\local\\programs\\python\\python38-32\\lib\\site-packages)\n",
      "WARNING: Ignoring invalid distribution -ip (c:\\users\\asus\\appdata\\local\\programs\\python\\python38-32\\lib\\site-packages)\n",
      "WARNING: Ignoring invalid distribution -ip (c:\\users\\asus\\appdata\\local\\programs\\python\\python38-32\\lib\\site-packages)\n"
     ]
    },
    {
     "name": "stdout",
     "output_type": "stream",
     "text": [
      "Requirement already satisfied: scrapy in c:\\users\\asus\\appdata\\local\\programs\\python\\python38-32\\lib\\site-packages (2.6.1)\n",
      "Requirement already satisfied: tldextract in c:\\users\\asus\\appdata\\local\\programs\\python\\python38-32\\lib\\site-packages (from scrapy) (3.2.0)\n",
      "Requirement already satisfied: queuelib>=1.4.2 in c:\\users\\asus\\appdata\\local\\programs\\python\\python38-32\\lib\\site-packages (from scrapy) (1.6.2)\n",
      "Requirement already satisfied: protego>=0.1.15 in c:\\users\\asus\\appdata\\local\\programs\\python\\python38-32\\lib\\site-packages (from scrapy) (0.2.1)\n",
      "Requirement already satisfied: cssselect>=0.9.1 in c:\\users\\asus\\appdata\\local\\programs\\python\\python38-32\\lib\\site-packages (from scrapy) (1.1.0)\n",
      "Requirement already satisfied: zope.interface>=4.1.3 in c:\\users\\asus\\appdata\\local\\programs\\python\\python38-32\\lib\\site-packages (from scrapy) (5.4.0)\n",
      "Requirement already satisfied: service-identity>=16.0.0 in c:\\users\\asus\\appdata\\local\\programs\\python\\python38-32\\lib\\site-packages (from scrapy) (21.1.0)\n",
      "Requirement already satisfied: PyDispatcher>=2.0.5 in c:\\users\\asus\\appdata\\local\\programs\\python\\python38-32\\lib\\site-packages (from scrapy) (2.0.5)\n",
      "Requirement already satisfied: cryptography>=2.0 in c:\\users\\asus\\appdata\\local\\programs\\python\\python38-32\\lib\\site-packages (from scrapy) (36.0.2)\n",
      "Requirement already satisfied: parsel>=1.5.0 in c:\\users\\asus\\appdata\\local\\programs\\python\\python38-32\\lib\\site-packages (from scrapy) (1.6.0)\n",
      "Requirement already satisfied: w3lib>=1.17.0 in c:\\users\\asus\\appdata\\local\\programs\\python\\python38-32\\lib\\site-packages (from scrapy) (1.22.0)\n",
      "Requirement already satisfied: itemloaders>=1.0.1 in c:\\users\\asus\\appdata\\local\\programs\\python\\python38-32\\lib\\site-packages (from scrapy) (1.0.4)\n",
      "Requirement already satisfied: pyOpenSSL>=16.2.0 in c:\\users\\asus\\appdata\\local\\programs\\python\\python38-32\\lib\\site-packages (from scrapy) (22.0.0)\n",
      "Requirement already satisfied: itemadapter>=0.1.0 in c:\\users\\asus\\appdata\\local\\programs\\python\\python38-32\\lib\\site-packages (from scrapy) (0.4.0)\n",
      "Requirement already satisfied: setuptools in c:\\users\\asus\\appdata\\local\\programs\\python\\python38-32\\lib\\site-packages (from scrapy) (47.1.0)\n",
      "Requirement already satisfied: lxml>=3.5.0 in c:\\users\\asus\\appdata\\local\\programs\\python\\python38-32\\lib\\site-packages (from scrapy) (4.8.0)\n",
      "Requirement already satisfied: Twisted>=17.9.0 in c:\\users\\asus\\appdata\\local\\programs\\python\\python38-32\\lib\\site-packages (from scrapy) (22.2.0)\n",
      "Requirement already satisfied: cffi>=1.12 in c:\\users\\asus\\appdata\\local\\programs\\python\\python38-32\\lib\\site-packages (from cryptography>=2.0->scrapy) (1.15.0)\n",
      "Requirement already satisfied: jmespath>=0.9.5 in c:\\users\\asus\\appdata\\local\\programs\\python\\python38-32\\lib\\site-packages (from itemloaders>=1.0.1->scrapy) (1.0.0)\n",
      "Requirement already satisfied: six>=1.6.0 in c:\\users\\asus\\appdata\\roaming\\python\\python38\\site-packages (from parsel>=1.5.0->scrapy) (1.15.0)\n",
      "Requirement already satisfied: pyasn1 in c:\\users\\asus\\appdata\\local\\programs\\python\\python38-32\\lib\\site-packages (from service-identity>=16.0.0->scrapy) (0.4.8)\n",
      "Requirement already satisfied: attrs>=19.1.0 in c:\\users\\asus\\appdata\\local\\programs\\python\\python38-32\\lib\\site-packages (from service-identity>=16.0.0->scrapy) (21.4.0)\n",
      "Requirement already satisfied: pyasn1-modules in c:\\users\\asus\\appdata\\local\\programs\\python\\python38-32\\lib\\site-packages (from service-identity>=16.0.0->scrapy) (0.2.8)\n",
      "Requirement already satisfied: twisted-iocpsupport<2,>=1.0.2 in c:\\users\\asus\\appdata\\local\\programs\\python\\python38-32\\lib\\site-packages (from Twisted>=17.9.0->scrapy) (1.0.2)\n",
      "Requirement already satisfied: Automat>=0.8.0 in c:\\users\\asus\\appdata\\local\\programs\\python\\python38-32\\lib\\site-packages (from Twisted>=17.9.0->scrapy) (20.2.0)\n",
      "Requirement already satisfied: incremental>=21.3.0 in c:\\users\\asus\\appdata\\local\\programs\\python\\python38-32\\lib\\site-packages (from Twisted>=17.9.0->scrapy) (21.3.0)\n",
      "Requirement already satisfied: constantly>=15.1 in c:\\users\\asus\\appdata\\local\\programs\\python\\python38-32\\lib\\site-packages (from Twisted>=17.9.0->scrapy) (15.1.0)\n",
      "Requirement already satisfied: typing-extensions>=3.6.5 in c:\\users\\asus\\appdata\\local\\programs\\python\\python38-32\\lib\\site-packages (from Twisted>=17.9.0->scrapy) (4.1.1)\n",
      "Requirement already satisfied: hyperlink>=17.1.1 in c:\\users\\asus\\appdata\\local\\programs\\python\\python38-32\\lib\\site-packages (from Twisted>=17.9.0->scrapy) (21.0.0)\n",
      "Requirement already satisfied: filelock>=3.0.8 in c:\\users\\asus\\appdata\\local\\programs\\python\\python38-32\\lib\\site-packages (from tldextract->scrapy) (3.6.0)\n",
      "Requirement already satisfied: requests-file>=1.4 in c:\\users\\asus\\appdata\\local\\programs\\python\\python38-32\\lib\\site-packages (from tldextract->scrapy) (1.5.1)\n",
      "Requirement already satisfied: idna in c:\\users\\asus\\appdata\\local\\programs\\python\\python38-32\\lib\\site-packages (from tldextract->scrapy) (3.3)\n",
      "Requirement already satisfied: requests>=2.1.0 in c:\\users\\asus\\appdata\\local\\programs\\python\\python38-32\\lib\\site-packages (from tldextract->scrapy) (2.27.1)\n",
      "Requirement already satisfied: pycparser in c:\\users\\asus\\appdata\\local\\programs\\python\\python38-32\\lib\\site-packages (from cffi>=1.12->cryptography>=2.0->scrapy) (2.21)\n",
      "Requirement already satisfied: certifi>=2017.4.17 in c:\\users\\asus\\appdata\\local\\programs\\python\\python38-32\\lib\\site-packages (from requests>=2.1.0->tldextract->scrapy) (2021.10.8)\n",
      "Requirement already satisfied: charset-normalizer~=2.0.0 in c:\\users\\asus\\appdata\\local\\programs\\python\\python38-32\\lib\\site-packages (from requests>=2.1.0->tldextract->scrapy) (2.0.12)\n",
      "Requirement already satisfied: urllib3<1.27,>=1.21.1 in c:\\users\\asus\\appdata\\local\\programs\\python\\python38-32\\lib\\site-packages (from requests>=2.1.0->tldextract->scrapy) (1.26.8)\n"
     ]
    }
   ],
   "source": [
    "! pip install scrapy"
   ]
  },
  {
   "cell_type": "markdown",
   "metadata": {
    "id": "cdN6N8Tm7cvc"
   },
   "source": [
    "# Crawling Data Berita Sindo News"
   ]
  },
  {
   "cell_type": "code",
   "execution_count": 2,
   "metadata": {
    "colab": {
     "base_uri": "https://localhost:8080/"
    },
    "id": "V_M0wJ5aL5Wb",
    "outputId": "a727e28e-b369-482f-e903-cc66fd215e9f"
   },
   "outputs": [
    {
     "name": "stderr",
     "output_type": "stream",
     "text": [
      "2022-06-15 22:14:07 [scrapy.utils.log] INFO: Scrapy 2.6.1 started (bot: scrapybot)\n"
     ]
    },
    {
     "name": "stderr",
     "output_type": "stream",
     "text": [
      "2022-06-15 22:14:07 [scrapy.utils.log] INFO: Versions: lxml 4.8.0.0, libxml2 2.9.12, cssselect 1.1.0, parsel 1.6.0, w3lib 1.22.0, Twisted 22.2.0, Python 3.8.5 (tags/v3.8.5:580fbb0, Jul 20 2020, 15:43:08) [MSC v.1926 32 bit (Intel)], pyOpenSSL 22.0.0 (OpenSSL 1.1.1n  15 Mar 2022), cryptography 36.0.2, Platform Windows-10-10.0.22000-SP0\n"
     ]
    },
    {
     "name": "stderr",
     "output_type": "stream",
     "text": [
      "2022-06-15 22:14:07 [scrapy.crawler] INFO: Overridden settings:\n",
      "{}\n"
     ]
    },
    {
     "name": "stderr",
     "output_type": "stream",
     "text": [
      "2022-06-15 22:14:07 [scrapy.utils.log] DEBUG: Using reactor: twisted.internet.selectreactor.SelectReactor\n"
     ]
    },
    {
     "name": "stderr",
     "output_type": "stream",
     "text": [
      "2022-06-15 22:14:07 [scrapy.extensions.telnet] INFO: Telnet Password: ecb40f372d4b91d2\n"
     ]
    },
    {
     "name": "stderr",
     "output_type": "stream",
     "text": [
      "2022-06-15 22:14:07 [py.warnings] WARNING: C:\\Users\\ASUS\\AppData\\Local\\Programs\\Python\\Python38-32\\lib\\site-packages\\scrapy\\extensions\\feedexport.py:289: ScrapyDeprecationWarning: The `FEED_URI` and `FEED_FORMAT` settings have been deprecated in favor of the `FEEDS` setting. Please see the `FEEDS` setting docs for more details\n",
      "  exporter = cls(crawler)\n",
      "\n"
     ]
    },
    {
     "name": "stderr",
     "output_type": "stream",
     "text": [
      "2022-06-15 22:14:07 [scrapy.middleware] INFO: Enabled extensions:\n",
      "['scrapy.extensions.corestats.CoreStats',\n",
      " 'scrapy.extensions.telnet.TelnetConsole',\n",
      " 'scrapy.extensions.feedexport.FeedExporter',\n",
      " 'scrapy.extensions.logstats.LogStats']\n"
     ]
    },
    {
     "name": "stderr",
     "output_type": "stream",
     "text": [
      "2022-06-15 22:14:08 [scrapy.middleware] INFO: Enabled downloader middlewares:\n",
      "['scrapy.downloadermiddlewares.httpauth.HttpAuthMiddleware',\n",
      " 'scrapy.downloadermiddlewares.downloadtimeout.DownloadTimeoutMiddleware',\n",
      " 'scrapy.downloadermiddlewares.defaultheaders.DefaultHeadersMiddleware',\n",
      " 'scrapy.downloadermiddlewares.useragent.UserAgentMiddleware',\n",
      " 'scrapy.downloadermiddlewares.retry.RetryMiddleware',\n",
      " 'scrapy.downloadermiddlewares.redirect.MetaRefreshMiddleware',\n",
      " 'scrapy.downloadermiddlewares.httpcompression.HttpCompressionMiddleware',\n",
      " 'scrapy.downloadermiddlewares.redirect.RedirectMiddleware',\n",
      " 'scrapy.downloadermiddlewares.cookies.CookiesMiddleware',\n",
      " 'scrapy.downloadermiddlewares.httpproxy.HttpProxyMiddleware',\n",
      " 'scrapy.downloadermiddlewares.stats.DownloaderStats']\n"
     ]
    },
    {
     "name": "stderr",
     "output_type": "stream",
     "text": [
      "2022-06-15 22:14:08 [scrapy.middleware] INFO: Enabled spider middlewares:\n",
      "['scrapy.spidermiddlewares.httperror.HttpErrorMiddleware',\n",
      " 'scrapy.spidermiddlewares.offsite.OffsiteMiddleware',\n",
      " 'scrapy.spidermiddlewares.referer.RefererMiddleware',\n",
      " 'scrapy.spidermiddlewares.urllength.UrlLengthMiddleware',\n",
      " 'scrapy.spidermiddlewares.depth.DepthMiddleware']\n"
     ]
    },
    {
     "name": "stderr",
     "output_type": "stream",
     "text": [
      "2022-06-15 22:14:08 [scrapy.middleware] INFO: Enabled item pipelines:\n",
      "[]\n"
     ]
    },
    {
     "name": "stderr",
     "output_type": "stream",
     "text": [
      "2022-06-15 22:14:08 [scrapy.core.engine] INFO: Spider opened\n"
     ]
    },
    {
     "name": "stderr",
     "output_type": "stream",
     "text": [
      "2022-06-15 22:14:09 [scrapy.extensions.logstats] INFO: Crawled 0 pages (at 0 pages/min), scraped 0 items (at 0 items/min)\n"
     ]
    },
    {
     "name": "stderr",
     "output_type": "stream",
     "text": [
      "2022-06-15 22:14:09 [scrapy.extensions.telnet] INFO: Telnet console listening on 127.0.0.1:6023\n"
     ]
    },
    {
     "name": "stderr",
     "output_type": "stream",
     "text": [
      "2022-06-15 22:14:09 [scrapy.downloadermiddlewares.redirect] DEBUG: Redirecting (301) to <GET https://tekno.sindonews.com/> from <GET https://tekno.sindonews.com/teknologi>\n"
     ]
    },
    {
     "name": "stderr",
     "output_type": "stream",
     "text": [
      "2022-06-15 22:14:10 [filelock] DEBUG: Attempting to acquire lock 136891000 on C:\\Users\\ASUS\\AppData\\Local\\Programs\\Python\\Python38-32\\lib\\site-packages\\tldextract\\.suffix_cache/publicsuffix.org-tlds\\de84b5ca2167d4c83e38fb162f2e8738.tldextract.json.lock\n"
     ]
    },
    {
     "name": "stderr",
     "output_type": "stream",
     "text": [
      "2022-06-15 22:14:10 [filelock] DEBUG: Lock 136891000 acquired on C:\\Users\\ASUS\\AppData\\Local\\Programs\\Python\\Python38-32\\lib\\site-packages\\tldextract\\.suffix_cache/publicsuffix.org-tlds\\de84b5ca2167d4c83e38fb162f2e8738.tldextract.json.lock\n"
     ]
    },
    {
     "name": "stderr",
     "output_type": "stream",
     "text": [
      "2022-06-15 22:14:10 [filelock] DEBUG: Attempting to acquire lock 136891696 on C:\\Users\\ASUS\\AppData\\Local\\Programs\\Python\\Python38-32\\lib\\site-packages\\tldextract\\.suffix_cache/urls\\62bf135d1c2f3d4db4228b9ecaf507a2.tldextract.json.lock\n"
     ]
    },
    {
     "name": "stderr",
     "output_type": "stream",
     "text": [
      "2022-06-15 22:14:10 [filelock] DEBUG: Lock 136891696 acquired on C:\\Users\\ASUS\\AppData\\Local\\Programs\\Python\\Python38-32\\lib\\site-packages\\tldextract\\.suffix_cache/urls\\62bf135d1c2f3d4db4228b9ecaf507a2.tldextract.json.lock\n"
     ]
    },
    {
     "name": "stderr",
     "output_type": "stream",
     "text": [
      "2022-06-15 22:14:10 [filelock] DEBUG: Attempting to release lock 136891696 on C:\\Users\\ASUS\\AppData\\Local\\Programs\\Python\\Python38-32\\lib\\site-packages\\tldextract\\.suffix_cache/urls\\62bf135d1c2f3d4db4228b9ecaf507a2.tldextract.json.lock\n"
     ]
    },
    {
     "name": "stderr",
     "output_type": "stream",
     "text": [
      "2022-06-15 22:14:10 [filelock] DEBUG: Lock 136891696 released on C:\\Users\\ASUS\\AppData\\Local\\Programs\\Python\\Python38-32\\lib\\site-packages\\tldextract\\.suffix_cache/urls\\62bf135d1c2f3d4db4228b9ecaf507a2.tldextract.json.lock\n"
     ]
    },
    {
     "name": "stderr",
     "output_type": "stream",
     "text": [
      "2022-06-15 22:14:10 [filelock] DEBUG: Attempting to release lock 136891000 on C:\\Users\\ASUS\\AppData\\Local\\Programs\\Python\\Python38-32\\lib\\site-packages\\tldextract\\.suffix_cache/publicsuffix.org-tlds\\de84b5ca2167d4c83e38fb162f2e8738.tldextract.json.lock\n"
     ]
    },
    {
     "name": "stderr",
     "output_type": "stream",
     "text": [
      "2022-06-15 22:14:10 [filelock] DEBUG: Lock 136891000 released on C:\\Users\\ASUS\\AppData\\Local\\Programs\\Python\\Python38-32\\lib\\site-packages\\tldextract\\.suffix_cache/publicsuffix.org-tlds\\de84b5ca2167d4c83e38fb162f2e8738.tldextract.json.lock\n"
     ]
    },
    {
     "name": "stderr",
     "output_type": "stream",
     "text": [
      "2022-06-15 22:14:10 [scrapy.core.engine] DEBUG: Crawled (200) <GET https://tekno.sindonews.com/> (referer: None)\n"
     ]
    },
    {
     "name": "stderr",
     "output_type": "stream",
     "text": [
      "2022-06-15 22:14:10 [scrapy.core.scraper] DEBUG: Scraped from <200 https://tekno.sindonews.com/>\r\n",
      "{'judul': 'Cara Sembunyikan Status Online Instagram, Mudah Banget', 'tanggal': 'Rabu, 15 Juni 2022 - 19:49 WIB', 'kategori': 'TELCO', 'deskripsi': 'Bagi para penggiat sosial tentunya harus memahami cara sembunyikan status online instagram. Dengan begitu, Anda bisa tetap berselancar dengan aman di instagram.'}\n"
     ]
    },
    {
     "name": "stderr",
     "output_type": "stream",
     "text": [
      "2022-06-15 22:14:10 [scrapy.core.scraper] DEBUG: Scraped from <200 https://tekno.sindonews.com/>\r\n",
      "{'judul': '4 Cara Cek Tagihan Indihome Secara Online dengan Praktis, Anti Ribet', 'tanggal': 'Rabu, 15 Juni 2022 - 18:26 WIB', 'kategori': 'GADGET', 'deskripsi': 'Sedikitnya ada empat cara cek tagihan indihome secara online dengan mudah. Dengan memahami ulasan ini, Anda tidak perlu bingung lagi dalam memeriksa tagihan Internet. Apalagi sampai harus mendatangi kantornya secara langsung.'}\n"
     ]
    },
    {
     "name": "stderr",
     "output_type": "stream",
     "text": [
      "2022-06-15 22:14:10 [scrapy.core.scraper] DEBUG: Scraped from <200 https://tekno.sindonews.com/>\r\n",
      "{'judul': 'Cara Mengetahui Akun Netflix Telah Diretas', 'tanggal': 'Rabu, 15 Juni 2022 - 15:56 WIB', 'kategori': 'TELCO', 'deskripsi': 'Cara mengetahui akun Netflix telah diretas penting diketahui. Sebab, bukan rahasia lagi bahwa akun Netflix bisa diretas atau ditebengi.'}\n"
     ]
    },
    {
     "name": "stderr",
     "output_type": "stream",
     "text": [
      "2022-06-15 22:14:10 [scrapy.core.scraper] DEBUG: Scraped from <200 https://tekno.sindonews.com/>\r\n",
      "{'judul': 'Partai Perindo: Mars Partai Perindo dengan QR Code', 'tanggal': None, 'kategori': 'sponsored', 'deskripsi': 'Lahir dari semangat untuk mengembalikan cita-cita kemerdekaan, Partai Perindo hadir untuk membangun Indonesia menjadi negara bersatu, berdaulat, adil dan makmur berlandaskan Pancasila.'}\n"
     ]
    },
    {
     "name": "stderr",
     "output_type": "stream",
     "text": [
      "2022-06-15 22:14:10 [scrapy.core.scraper] DEBUG: Scraped from <200 https://tekno.sindonews.com/>\r\n",
      "{'judul': 'Saham Snap Anjlok Parah hingga 74% di 2022, Ini Penyebabnya', 'tanggal': 'Rabu, 15 Juni 2022 - 15:00 WIB', 'kategori': 'TELCO', 'deskripsi': 'Saham Snap anjlok parah selama 2022. Bayangkan, pada September 2021 saham Snap diperdagangkan setinggi USD83,11 per lembar. Sekarang, turun 74,5 persen, merosot ke angka USD12 menjelang penutupan pasar di New York.'}\n"
     ]
    },
    {
     "name": "stderr",
     "output_type": "stream",
     "text": [
      "2022-06-15 22:14:10 [scrapy.core.scraper] DEBUG: Scraped from <200 https://tekno.sindonews.com/>\r\n",
      "{'judul': 'Internet Explorer Disuntik Mati Hari Ini, Komputer dan Laptop Lama Jadi Korban', 'tanggal': 'Rabu, 15 Juni 2022 - 10:54 WIB', 'kategori': 'TELCO', 'deskripsi': 'Microsoft mulai menyuntik mati web browser lawas mereka, Internet Explorer per 15 Juni ini. Dampaknya akan terasa pada komputer dan laptop lama yang ada di perkantoran.'}\n"
     ]
    },
    {
     "name": "stderr",
     "output_type": "stream",
     "text": [
      "2022-06-15 22:14:10 [scrapy.core.scraper] DEBUG: Scraped from <200 https://tekno.sindonews.com/>\r\n",
      "{'judul': 'Kode Redeem FF Free Fire, Rabu 15 Juni 2022, Klaim Segera Agar yang Lain Cemburu', 'tanggal': 'Rabu, 15 Juni 2022 - 08:00 WIB', 'kategori': 'GAMES', 'deskripsi': 'Kode Redeem FF Free Fire, Rabu 15 Juni 2022 telah tersedia. Segera klaim segera agar yang lain cemburu karena tidak dapat hadiah eksklusif.'}\n"
     ]
    },
    {
     "name": "stderr",
     "output_type": "stream",
     "text": [
      "2022-06-15 22:14:10 [scrapy.core.scraper] DEBUG: Scraped from <200 https://tekno.sindonews.com/>\r\n",
      "{'judul': '8 Antivirus Terbaik 2022 yang Bisa Tangkis Serangan Siber', 'tanggal': 'Selasa, 14 Juni 2022 - 22:53 WIB', 'kategori': 'TELCO', 'deskripsi': 'Seiring dengan kemajuan teknologi, ancaman serangan siber juga semakin meningkat. Salah satu yang paling sering adalah phishing sebagai metode untuk mencuri data atau informasi pengguna.'}\n"
     ]
    },
    {
     "name": "stderr",
     "output_type": "stream",
     "text": [
      "2022-06-15 22:14:10 [scrapy.core.scraper] DEBUG: Scraped from <200 https://tekno.sindonews.com/>\r\n",
      "{'judul': '2 Cara Screenshot di MacBook, Ternyata Mudah dan Cepat!', 'tanggal': 'Selasa, 14 Juni 2022 - 18:16 WIB', 'kategori': 'ELEKTRONIK', 'deskripsi': 'Cara screenshot di MacBook penting diketahui oleh pengguna ekosistem Apple. Sebab, melakukan tangkapan layar di MacBook dan PC sangat berbeda.'}\n"
     ]
    },
    {
     "name": "stderr",
     "output_type": "stream",
     "text": [
      "2022-06-15 22:14:10 [scrapy.core.scraper] DEBUG: Scraped from <200 https://tekno.sindonews.com/>\r\n",
      "{'judul': 'Cara Restart HP Xiaomi Tanpa Tombol Power', 'tanggal': 'Selasa, 14 Juni 2022 - 18:00 WIB', 'kategori': 'GADGET', 'deskripsi': 'Cara restart HP Xiaomi tanpa tombol power bisa dilakukan dengan cukup mudah. Bahkan, ada beberapa cara untuk melakukannya.'}\n"
     ]
    },
    {
     "name": "stderr",
     "output_type": "stream",
     "text": [
      "2022-06-15 22:14:10 [scrapy.core.scraper] DEBUG: Scraped from <200 https://tekno.sindonews.com/>\r\n",
      "{'judul': 'Begini Cara Menyembunyikan Foto dan Video di Hp Samsung, Mudah dan Praktis', 'tanggal': 'Selasa, 14 Juni 2022 - 17:45 WIB', 'kategori': 'GADGET', 'deskripsi': 'Sedikitnya ada dua cara menyembunyikan foto dan video di hp Samsung dengan mudah. Dengan menyimak ulasan ini, pengguna ponsel Samsung tidak perlu bingung lagi dalam menyembunyikan file berupa foto dan video di galeri.'}\n"
     ]
    },
    {
     "name": "stderr",
     "output_type": "stream",
     "text": [
      "2022-06-15 22:14:10 [scrapy.core.scraper] DEBUG: Scraped from <200 https://tekno.sindonews.com/>\r\n",
      "{'judul': 'Migrasi ke TV Digital, Samsung Tawarkan Super Smart TV+ Mulai Rp6,5 Juta', 'tanggal': 'Selasa, 14 Juni 2022 - 17:00 WIB', 'kategori': 'ELEKTRONIK', 'deskripsi': 'Super Smart TV+ jadi upaya Samsung untuk memberikan opsi smart TV dengan harga kompetitif bagi konsumen yang akan beralih dari TV analog ke digital.'}\n"
     ]
    },
    {
     "name": "stderr",
     "output_type": "stream",
     "text": [
      "2022-06-15 22:14:10 [scrapy.core.scraper] DEBUG: Scraped from <200 https://tekno.sindonews.com/>\r\n",
      "{'judul': 'Didukung Ericsson, Indosat Ooredoo Hutchison Hadirkan Pengalaman 5G Kelas Dunia di Formula E', 'tanggal': 'Selasa, 14 Juni 2022 - 16:58 WIB', 'kategori': 'SPONSORED', 'deskripsi': 'Keberhasilan ajang Formula E di Jakarta tak lepas dari kenyamanan dan kelancaran sarana dan prasarana pendukung.Termasuk pengalaman 5G berkelas dunia yang dihadirkan oleh Indosat Ooredoo Hutchison (IOH) yang didukung Ericsson.'}\n"
     ]
    },
    {
     "name": "stderr",
     "output_type": "stream",
     "text": [
      "2022-06-15 22:14:10 [scrapy.core.scraper] DEBUG: Scraped from <200 https://tekno.sindonews.com/>\r\n",
      "{'judul': 'Plus Minus Headphone Bone Conduction Dibandingkan True Wireless Stereo', 'tanggal': 'Selasa, 14 Juni 2022 - 16:05 WIB', 'kategori': 'ELEKTRONIK', 'deskripsi': 'Bone conduction headphone belakangan semakin diminati. Ini adalah jenis headphone baru dengan teknologi canggih. Sebab, tidak menggunakan speaker atau driver untuk memproduksi suara.'}\n"
     ]
    },
    {
     "name": "stderr",
     "output_type": "stream",
     "text": [
      "2022-06-15 22:14:10 [scrapy.core.scraper] DEBUG: Scraped from <200 https://tekno.sindonews.com/>\r\n",
      "{'judul': 'Harga dan Fitur Shokz, Headphone dengan Teknologi Bone Conduction', 'tanggal': 'Selasa, 14 Juni 2022 - 14:48 WIB', 'kategori': 'ELEKTRONIK', 'deskripsi': 'Erajaya Active Lifestyle mengenalkan 4 model headphone dengan teknologi bone conduction milik Shokz (dulunya AfterShokz) di jaringan ritel Erajaya Group.'}\n"
     ]
    },
    {
     "name": "stderr",
     "output_type": "stream",
     "text": [
      "2022-06-15 22:14:10 [scrapy.core.scraper] DEBUG: Scraped from <200 https://tekno.sindonews.com/>\r\n",
      "{'judul': 'Cara Melihat Terakhir Dilihat WhatsApp yang Disembunyikan', 'tanggal': 'Selasa, 14 Juni 2022 - 13:40 WIB', 'kategori': 'TELCO', 'deskripsi': 'Cara melihat terakhir dilihat WhatsApp yang disembunyikan bisa dilakukan dengan menggunakan aplikasi tambahan'}\n"
     ]
    },
    {
     "name": "stderr",
     "output_type": "stream",
     "text": [
      "2022-06-15 22:14:10 [scrapy.core.scraper] DEBUG: Scraped from <200 https://tekno.sindonews.com/>\r\n",
      "{'judul': 'Dinilai Sangat Membantu, Google Translate Mampu Terjemahkan 133 Bahasa', 'tanggal': 'Selasa, 14 Juni 2022 - 12:54 WIB', 'kategori': 'TELCO', 'deskripsi': 'Google telah mengembangkan berbagai alat yang luas untuk mendorong komunikasi yang lebih baik di seluruh dunia.'}\n"
     ]
    },
    {
     "name": "stderr",
     "output_type": "stream",
     "text": [
      "2022-06-15 22:14:10 [scrapy.core.scraper] DEBUG: Scraped from <200 https://tekno.sindonews.com/>\r\n",
      "{'judul': '7 Fitur TourBox Neo, Tombol Pintas untuk Desainer Hingga Editor Video', 'tanggal': 'Selasa, 14 Juni 2022 - 12:42 WIB', 'kategori': 'ELEKTRONIK', 'deskripsi': 'TourBox Neo adalah perangkat yang memiliki fungsi spesifik. Yakni, membantu para pekerja kreatif. Khususnya di bidang desain grafis, fotografi, video, musik hingga multimedia.'}\n"
     ]
    },
    {
     "name": "stderr",
     "output_type": "stream",
     "text": [
      "2022-06-15 22:14:10 [scrapy.core.scraper] DEBUG: Scraped from <200 https://tekno.sindonews.com/>\r\n",
      "{'judul': 'Cara Mengatasi WhastApp Kena Sadap Tanpa Harus Ganti Akun', 'tanggal': 'Selasa, 14 Juni 2022 - 12:38 WIB', 'kategori': 'TELCO', 'deskripsi': 'Cara mengatasi WhastApp kena sadap agar data-data Anda terjaga dengan aman dari serangan siber belakangan ini memang sedang marak.'}\n"
     ]
    },
    {
     "name": "stderr",
     "output_type": "stream",
     "text": [
      "2022-06-15 22:14:10 [scrapy.core.scraper] DEBUG: Scraped from <200 https://tekno.sindonews.com/>\r\n",
      "{'judul': 'Kode Redeem FF Free Fire Selasa 14 Juni 2022, Mood Booster Hari Ini!', 'tanggal': 'Selasa, 14 Juni 2022 - 09:11 WIB', 'kategori': 'GAMES', 'deskripsi': 'Kode Redeem FF Free Fire, Selasa 14 Juni 2022, lebih menarik karena pemain bisa mendapat banyak sekali item gratis yang bisa digunakan.'}\n"
     ]
    },
    {
     "name": "stderr",
     "output_type": "stream",
     "text": [
      "2022-06-15 22:14:10 [scrapy.core.scraper] DEBUG: Scraped from <200 https://tekno.sindonews.com/>\r\n",
      "{'judul': 'Cara Mengatasi HP Xiaomi Fastboot, Cukup Lakukan 2 Langkah Ini!', 'tanggal': 'Senin, 13 Juni 2022 - 21:56 WIB', 'kategori': 'GADGET', 'deskripsi': 'Cara mengatasi HP Xiaomi fastboot penting diketahui oleh Mi Fans atau pengguna ponsel Xiaomi. Tentu saja, ketika sewaktu-waktu mengalami fastboot mereka tidak kebingungan.'}\n"
     ]
    },
    {
     "name": "stderr",
     "output_type": "stream",
     "text": [
      "2022-06-15 22:14:10 [scrapy.core.engine] INFO: Closing spider (finished)\n"
     ]
    },
    {
     "name": "stderr",
     "output_type": "stream",
     "text": [
      "2022-06-15 22:14:10 [scrapy.extensions.feedexport] INFO: Stored csv feed (21 items) in: berita.csv\n"
     ]
    },
    {
     "name": "stderr",
     "output_type": "stream",
     "text": [
      "2022-06-15 22:14:10 [scrapy.statscollectors] INFO: Dumping Scrapy stats:\n",
      "{'downloader/request_bytes': 447,\n",
      " 'downloader/request_count': 2,\n",
      " 'downloader/request_method_count/GET': 2,\n",
      " 'downloader/response_bytes': 24980,\n",
      " 'downloader/response_count': 2,\n",
      " 'downloader/response_status_count/200': 1,\n",
      " 'downloader/response_status_count/301': 1,\n",
      " 'elapsed_time_seconds': 1.432767,\n",
      " 'feedexport/success_count/FileFeedStorage': 1,\n",
      " 'finish_reason': 'finished',\n",
      " 'finish_time': datetime.datetime(2022, 6, 15, 15, 14, 10, 600616),\n",
      " 'httpcompression/response_bytes': 110764,\n",
      " 'httpcompression/response_count': 1,\n",
      " 'item_scraped_count': 21,\n",
      " 'log_count/DEBUG': 32,\n",
      " 'log_count/INFO': 11,\n",
      " 'log_count/WARNING': 1,\n",
      " 'response_received_count': 1,\n",
      " 'scheduler/dequeued': 2,\n",
      " 'scheduler/dequeued/memory': 2,\n",
      " 'scheduler/enqueued': 2,\n",
      " 'scheduler/enqueued/memory': 2,\n",
      " 'start_time': datetime.datetime(2022, 6, 15, 15, 14, 9, 167849)}\n"
     ]
    },
    {
     "name": "stderr",
     "output_type": "stream",
     "text": [
      "2022-06-15 22:14:10 [scrapy.core.engine] INFO: Spider closed (finished)\n"
     ]
    }
   ],
   "source": [
    "import scrapy\n",
    "from scrapy.crawler import CrawlerProcess\n",
    "\n",
    "class ScrapingWeb(scrapy.Spider):    \n",
    "    name = \"sindonews\"\n",
    "    keyword = 'teknologi'\n",
    "    start_urls = [\n",
    "        'https://tekno.sindonews.com/'+keyword\n",
    "        ]\n",
    "    custom_settings = {\n",
    "        'FEED_FORMAT': 'csv',\n",
    "        'FEED_URI': 'berita.csv'\n",
    "        }\n",
    "    \n",
    "    def parse(self, response):\n",
    "        for data in response.css('div.desc-news'):\n",
    "            yield {\n",
    "                'judul': data.css('div.title a::text').get(),\n",
    "                'tanggal': data.css('span.date::text').get(),\n",
    "                'kategori': data.css('span.subkanal::text').get(),\n",
    "                'deskripsi': data.css('div.desc::text').get()\n",
    "                }\n",
    "proses = CrawlerProcess()\n",
    "proses.crawl(ScrapingWeb)\n",
    "proses.start()\n"
   ]
  },
  {
   "cell_type": "markdown",
   "metadata": {
    "id": "GVNICDnz73gQ"
   },
   "source": [
    "# instal library yang digunakan"
   ]
  },
  {
   "cell_type": "code",
   "execution_count": 3,
   "metadata": {
    "colab": {
     "base_uri": "https://localhost:8080/",
     "height": 1000
    },
    "id": "q3cZUma8POM0",
    "outputId": "4cc86749-1ff1-471a-ecd1-634f9e1f45aa"
   },
   "outputs": [
    {
     "name": "stdout",
     "output_type": "stream",
     "text": [
      "Requirement already satisfied: pandas in c:\\users\\asus\\appdata\\local\\programs\\python\\python38-32\\lib\\site-packages (1.2.0)\n",
      "Requirement already satisfied: pytz>=2017.3 in c:\\users\\asus\\appdata\\local\\programs\\python\\python38-32\\lib\\site-packages (from pandas) (2020.5)\n",
      "Requirement already satisfied: numpy>=1.16.5 in c:\\users\\asus\\appdata\\local\\programs\\python\\python38-32\\lib\\site-packages (from pandas) (1.19.4)\n",
      "Requirement already satisfied: python-dateutil>=2.7.3 in c:\\users\\asus\\appdata\\local\\programs\\python\\python38-32\\lib\\site-packages (from pandas) (2.8.1)\n",
      "Requirement already satisfied: six>=1.5 in c:\\users\\asus\\appdata\\roaming\\python\\python38\\site-packages (from python-dateutil>=2.7.3->pandas) (1.15.0)\n"
     ]
    },
    {
     "name": "stderr",
     "output_type": "stream",
     "text": [
      "WARNING: Ignoring invalid distribution -ip (c:\\users\\asus\\appdata\\local\\programs\\python\\python38-32\\lib\\site-packages)\n",
      "WARNING: Ignoring invalid distribution -ip (c:\\users\\asus\\appdata\\local\\programs\\python\\python38-32\\lib\\site-packages)\n",
      "WARNING: Ignoring invalid distribution -ip (c:\\users\\asus\\appdata\\local\\programs\\python\\python38-32\\lib\\site-packages)\n",
      "WARNING: Ignoring invalid distribution -ip (c:\\users\\asus\\appdata\\local\\programs\\python\\python38-32\\lib\\site-packages)\n",
      "WARNING: Ignoring invalid distribution -ip (c:\\users\\asus\\appdata\\local\\programs\\python\\python38-32\\lib\\site-packages)\n",
      "WARNING: Ignoring invalid distribution -ip (c:\\users\\asus\\appdata\\local\\programs\\python\\python38-32\\lib\\site-packages)\n"
     ]
    },
    {
     "name": "stdout",
     "output_type": "stream",
     "text": [
      "Requirement already satisfied: numpy in c:\\users\\asus\\appdata\\local\\programs\\python\\python38-32\\lib\\site-packages (1.19.4)\n"
     ]
    },
    {
     "name": "stderr",
     "output_type": "stream",
     "text": [
      "WARNING: Ignoring invalid distribution -ip (c:\\users\\asus\\appdata\\local\\programs\\python\\python38-32\\lib\\site-packages)\n",
      "WARNING: Ignoring invalid distribution -ip (c:\\users\\asus\\appdata\\local\\programs\\python\\python38-32\\lib\\site-packages)\n",
      "WARNING: Ignoring invalid distribution -ip (c:\\users\\asus\\appdata\\local\\programs\\python\\python38-32\\lib\\site-packages)\n",
      "WARNING: Ignoring invalid distribution -ip (c:\\users\\asus\\appdata\\local\\programs\\python\\python38-32\\lib\\site-packages)\n",
      "WARNING: Ignoring invalid distribution -ip (c:\\users\\asus\\appdata\\local\\programs\\python\\python38-32\\lib\\site-packages)\n",
      "WARNING: Ignoring invalid distribution -ip (c:\\users\\asus\\appdata\\local\\programs\\python\\python38-32\\lib\\site-packages)\n"
     ]
    },
    {
     "name": "stdout",
     "output_type": "stream",
     "text": [
      "Requirement already satisfied: nltk in c:\\users\\asus\\appdata\\local\\programs\\python\\python38-32\\lib\\site-packages (3.7)\n",
      "Requirement already satisfied: tqdm in c:\\users\\asus\\appdata\\local\\programs\\python\\python38-32\\lib\\site-packages (from nltk) (4.63.1)\n",
      "Requirement already satisfied: regex>=2021.8.3 in c:\\users\\asus\\appdata\\local\\programs\\python\\python38-32\\lib\\site-packages (from nltk) (2022.3.15)\n",
      "Requirement already satisfied: click in c:\\users\\asus\\appdata\\local\\programs\\python\\python38-32\\lib\\site-packages (from nltk) (7.1.2)\n",
      "Requirement already satisfied: joblib in c:\\users\\asus\\appdata\\local\\programs\\python\\python38-32\\lib\\site-packages (from nltk) (1.1.0)\n",
      "Requirement already satisfied: colorama in c:\\users\\asus\\appdata\\roaming\\python\\python38\\site-packages (from tqdm->nltk) (0.4.3)\n"
     ]
    },
    {
     "name": "stderr",
     "output_type": "stream",
     "text": [
      "WARNING: Ignoring invalid distribution -ip (c:\\users\\asus\\appdata\\local\\programs\\python\\python38-32\\lib\\site-packages)\n",
      "WARNING: Ignoring invalid distribution -ip (c:\\users\\asus\\appdata\\local\\programs\\python\\python38-32\\lib\\site-packages)\n",
      "WARNING: Ignoring invalid distribution -ip (c:\\users\\asus\\appdata\\local\\programs\\python\\python38-32\\lib\\site-packages)\n",
      "WARNING: Ignoring invalid distribution -ip (c:\\users\\asus\\appdata\\local\\programs\\python\\python38-32\\lib\\site-packages)\n",
      "WARNING: Ignoring invalid distribution -ip (c:\\users\\asus\\appdata\\local\\programs\\python\\python38-32\\lib\\site-packages)\n",
      "WARNING: Ignoring invalid distribution -ip (c:\\users\\asus\\appdata\\local\\programs\\python\\python38-32\\lib\\site-packages)\n"
     ]
    },
    {
     "name": "stdout",
     "output_type": "stream",
     "text": [
      "^C\n"
     ]
    }
   ],
   "source": [
    "! pip install pandas\n",
    "! pip install numpy\n",
    "! pip install nltk\n",
    "! pip install swifter\n",
    "! pip install sastrawi\n",
    "! pip install Stemmer\n",
    "! pip install sklearn\n",
    "! pip install matplotlib\n",
    "! pip install seaborn"
   ]
  },
  {
   "cell_type": "markdown",
   "metadata": {
    "id": "McfjdZjg7O1L"
   },
   "source": [
    "#Import Modul"
   ]
  },
  {
   "cell_type": "code",
   "execution_count": null,
   "metadata": {
    "colab": {
     "base_uri": "https://localhost:8080/"
    },
    "id": "ukyu8Gfaqwxw",
    "outputId": "817d7828-c5b5-4a9f-a296-5936d07487ba"
   },
   "outputs": [
    {
     "name": "stderr",
     "output_type": "stream",
     "text": [
      "[nltk_data] Downloading package stopwords to /root/nltk_data...\n",
      "[nltk_data]   Unzipping corpora/stopwords.zip.\n"
     ]
    },
    {
     "data": {
      "text/plain": [
       "True"
      ]
     },
     "execution_count": 5,
     "metadata": {},
     "output_type": "execute_result"
    }
   ],
   "source": [
    "import nltk\n",
    "nltk.download('stopwords')"
   ]
  },
  {
   "cell_type": "code",
   "execution_count": null,
   "metadata": {
    "colab": {
     "base_uri": "https://localhost:8080/"
    },
    "id": "-UjCKbhsNf3n",
    "outputId": "38e64ecc-f239-4188-c7bf-74f515ce885a"
   },
   "outputs": [
    {
     "name": "stderr",
     "output_type": "stream",
     "text": [
      "2022-06-15 09:22:00 [matplotlib.pyplot] DEBUG: Loaded backend module://ipykernel.pylab.backend_inline version unknown.\n"
     ]
    }
   ],
   "source": [
    "# data visualisation and manipulation\n",
    "import numpy as np\n",
    "import pandas as pd\n",
    "import matplotlib.pyplot as plt\n",
    "from matplotlib import style\n",
    "import seaborn as sns\n",
    "#configure\n",
    "# sets matplotlib to inline and displays graphs below the corressponding cell.\n",
    "%matplotlib inline  \n",
    "style.use('fivethirtyeight')\n",
    "sns.set(style='whitegrid',color_codes=True)\n",
    "\n",
    "#import nltk\n",
    "import nltk\n",
    "from nltk.corpus import stopwords\n",
    "from nltk.tokenize import word_tokenize,sent_tokenize\n",
    "\n",
    "#preprocessing\n",
    "from nltk.corpus import stopwords  #stopwords\n",
    "from nltk import word_tokenize,sent_tokenize # tokenizing\n",
    "from nltk.stem import PorterStemmer,LancasterStemmer  # using the Porter Stemmer and Lancaster Stemmer and others\n",
    "from nltk.stem.snowball import SnowballStemmer\n",
    "from nltk.stem import WordNetLemmatizer  # lammatizer from WordNet\n",
    "\n",
    "# for named entity recognition (NER)\n",
    "from nltk import ne_chunk\n",
    "\n",
    "# vectorizers for creating the document-term-matrix (DTM)\n",
    "from sklearn.feature_extraction.text import TfidfVectorizer,CountVectorizer\n",
    "\n",
    "#stop-words\n",
    "stop_words=set(nltk.corpus.stopwords.words('english'))"
   ]
  },
  {
   "cell_type": "markdown",
   "metadata": {
    "id": "T_VrBgpN8OTh"
   },
   "source": [
    "# Membaca Data"
   ]
  },
  {
   "cell_type": "code",
   "execution_count": null,
   "metadata": {
    "id": "pNMdzjVkQ6Fg"
   },
   "outputs": [],
   "source": [
    "df=pd.read_csv(r'berita.csv')"
   ]
  },
  {
   "cell_type": "code",
   "execution_count": null,
   "metadata": {
    "colab": {
     "base_uri": "https://localhost:8080/",
     "height": 206
    },
    "id": "3fiVXj1BRaUi",
    "outputId": "a4e93877-eb2a-4ba9-f437-c08f789e4cc2"
   },
   "outputs": [
    {
     "data": {
      "text/html": [
       "\n",
       "  <div id=\"df-349dd686-f9ba-4c3f-b690-ebf5a79cabf2\">\n",
       "    <div class=\"colab-df-container\">\n",
       "      <div>\n",
       "<style scoped>\n",
       "    .dataframe tbody tr th:only-of-type {\n",
       "        vertical-align: middle;\n",
       "    }\n",
       "\n",
       "    .dataframe tbody tr th {\n",
       "        vertical-align: top;\n",
       "    }\n",
       "\n",
       "    .dataframe thead th {\n",
       "        text-align: right;\n",
       "    }\n",
       "</style>\n",
       "<table border=\"1\" class=\"dataframe\">\n",
       "  <thead>\n",
       "    <tr style=\"text-align: right;\">\n",
       "      <th></th>\n",
       "      <th>judul</th>\n",
       "      <th>tanggal</th>\n",
       "      <th>kategori</th>\n",
       "      <th>deskripsi</th>\n",
       "    </tr>\n",
       "  </thead>\n",
       "  <tbody>\n",
       "    <tr>\n",
       "      <th>0</th>\n",
       "      <td>Cara Mengetahui Akun Netflix Telah Diretas</td>\n",
       "      <td>Rabu, 15 Juni 2022 - 15:56 WIB</td>\n",
       "      <td>TELCO</td>\n",
       "      <td>Cara mengetahui akun Netflix telah diretas pen...</td>\n",
       "    </tr>\n",
       "    <tr>\n",
       "      <th>1</th>\n",
       "      <td>Saham Snap Anjlok Parah hingga 74% di 2022, In...</td>\n",
       "      <td>Rabu, 15 Juni 2022 - 15:00 WIB</td>\n",
       "      <td>TELCO</td>\n",
       "      <td>Saham Snap anjlok parah selama 2022. Bayangkan...</td>\n",
       "    </tr>\n",
       "    <tr>\n",
       "      <th>2</th>\n",
       "      <td>Internet Explorer Disuntik Mati Hari Ini, Komp...</td>\n",
       "      <td>Rabu, 15 Juni 2022 - 10:54 WIB</td>\n",
       "      <td>TELCO</td>\n",
       "      <td>Microsoft mulai menyuntik mati web browser law...</td>\n",
       "    </tr>\n",
       "    <tr>\n",
       "      <th>3</th>\n",
       "      <td>Partai Perindo: Mars Partai Perindo dengan QR ...</td>\n",
       "      <td>NaN</td>\n",
       "      <td>sponsored</td>\n",
       "      <td>Lahir dari semangat untuk mengembalikan cita-c...</td>\n",
       "    </tr>\n",
       "    <tr>\n",
       "      <th>4</th>\n",
       "      <td>Kode Redeem FF Free Fire, Rabu 15 Juni 2022, K...</td>\n",
       "      <td>Rabu, 15 Juni 2022 - 08:00 WIB</td>\n",
       "      <td>GAMES</td>\n",
       "      <td>Kode Redeem FF Free Fire, Rabu 15 Juni 2022 te...</td>\n",
       "    </tr>\n",
       "  </tbody>\n",
       "</table>\n",
       "</div>\n",
       "      <button class=\"colab-df-convert\" onclick=\"convertToInteractive('df-349dd686-f9ba-4c3f-b690-ebf5a79cabf2')\"\n",
       "              title=\"Convert this dataframe to an interactive table.\"\n",
       "              style=\"display:none;\">\n",
       "\n",
       "  <svg xmlns=\"http://www.w3.org/2000/svg\" height=\"24px\"viewBox=\"0 0 24 24\"\n",
       "       width=\"24px\">\n",
       "    <path d=\"M0 0h24v24H0V0z\" fill=\"none\"/>\n",
       "    <path d=\"M18.56 5.44l.94 2.06.94-2.06 2.06-.94-2.06-.94-.94-2.06-.94 2.06-2.06.94zm-11 1L8.5 8.5l.94-2.06 2.06-.94-2.06-.94L8.5 2.5l-.94 2.06-2.06.94zm10 10l.94 2.06.94-2.06 2.06-.94-2.06-.94-.94-2.06-.94 2.06-2.06.94z\"/><path d=\"M17.41 7.96l-1.37-1.37c-.4-.4-.92-.59-1.43-.59-.52 0-1.04.2-1.43.59L10.3 9.45l-7.72 7.72c-.78.78-.78 2.05 0 2.83L4 21.41c.39.39.9.59 1.41.59.51 0 1.02-.2 1.41-.59l7.78-7.78 2.81-2.81c.8-.78.8-2.07 0-2.86zM5.41 20L4 18.59l7.72-7.72 1.47 1.35L5.41 20z\"/>\n",
       "  </svg>\n",
       "      </button>\n",
       "\n",
       "  <style>\n",
       "    .colab-df-container {\n",
       "      display:flex;\n",
       "      flex-wrap:wrap;\n",
       "      gap: 12px;\n",
       "    }\n",
       "\n",
       "    .colab-df-convert {\n",
       "      background-color: #E8F0FE;\n",
       "      border: none;\n",
       "      border-radius: 50%;\n",
       "      cursor: pointer;\n",
       "      display: none;\n",
       "      fill: #1967D2;\n",
       "      height: 32px;\n",
       "      padding: 0 0 0 0;\n",
       "      width: 32px;\n",
       "    }\n",
       "\n",
       "    .colab-df-convert:hover {\n",
       "      background-color: #E2EBFA;\n",
       "      box-shadow: 0px 1px 2px rgba(60, 64, 67, 0.3), 0px 1px 3px 1px rgba(60, 64, 67, 0.15);\n",
       "      fill: #174EA6;\n",
       "    }\n",
       "\n",
       "    [theme=dark] .colab-df-convert {\n",
       "      background-color: #3B4455;\n",
       "      fill: #D2E3FC;\n",
       "    }\n",
       "\n",
       "    [theme=dark] .colab-df-convert:hover {\n",
       "      background-color: #434B5C;\n",
       "      box-shadow: 0px 1px 3px 1px rgba(0, 0, 0, 0.15);\n",
       "      filter: drop-shadow(0px 1px 2px rgba(0, 0, 0, 0.3));\n",
       "      fill: #FFFFFF;\n",
       "    }\n",
       "  </style>\n",
       "\n",
       "      <script>\n",
       "        const buttonEl =\n",
       "          document.querySelector('#df-349dd686-f9ba-4c3f-b690-ebf5a79cabf2 button.colab-df-convert');\n",
       "        buttonEl.style.display =\n",
       "          google.colab.kernel.accessAllowed ? 'block' : 'none';\n",
       "\n",
       "        async function convertToInteractive(key) {\n",
       "          const element = document.querySelector('#df-349dd686-f9ba-4c3f-b690-ebf5a79cabf2');\n",
       "          const dataTable =\n",
       "            await google.colab.kernel.invokeFunction('convertToInteractive',\n",
       "                                                     [key], {});\n",
       "          if (!dataTable) return;\n",
       "\n",
       "          const docLinkHtml = 'Like what you see? Visit the ' +\n",
       "            '<a target=\"_blank\" href=https://colab.research.google.com/notebooks/data_table.ipynb>data table notebook</a>'\n",
       "            + ' to learn more about interactive tables.';\n",
       "          element.innerHTML = '';\n",
       "          dataTable['output_type'] = 'display_data';\n",
       "          await google.colab.output.renderOutput(dataTable, element);\n",
       "          const docLink = document.createElement('div');\n",
       "          docLink.innerHTML = docLinkHtml;\n",
       "          element.appendChild(docLink);\n",
       "        }\n",
       "      </script>\n",
       "    </div>\n",
       "  </div>\n"
      ],
      "text/plain": [
       "                                               judul  \\\n",
       "0         Cara Mengetahui Akun Netflix Telah Diretas   \n",
       "1  Saham Snap Anjlok Parah hingga 74% di 2022, In...   \n",
       "2  Internet Explorer Disuntik Mati Hari Ini, Komp...   \n",
       "3  Partai Perindo: Mars Partai Perindo dengan QR ...   \n",
       "4  Kode Redeem FF Free Fire, Rabu 15 Juni 2022, K...   \n",
       "\n",
       "                          tanggal   kategori  \\\n",
       "0  Rabu, 15 Juni 2022 - 15:56 WIB      TELCO   \n",
       "1  Rabu, 15 Juni 2022 - 15:00 WIB      TELCO   \n",
       "2  Rabu, 15 Juni 2022 - 10:54 WIB      TELCO   \n",
       "3                             NaN  sponsored   \n",
       "4  Rabu, 15 Juni 2022 - 08:00 WIB      GAMES   \n",
       "\n",
       "                                           deskripsi  \n",
       "0  Cara mengetahui akun Netflix telah diretas pen...  \n",
       "1  Saham Snap anjlok parah selama 2022. Bayangkan...  \n",
       "2  Microsoft mulai menyuntik mati web browser law...  \n",
       "3  Lahir dari semangat untuk mengembalikan cita-c...  \n",
       "4  Kode Redeem FF Free Fire, Rabu 15 Juni 2022 te...  "
      ]
     },
     "execution_count": 8,
     "metadata": {},
     "output_type": "execute_result"
    }
   ],
   "source": [
    "df.head()"
   ]
  },
  {
   "cell_type": "markdown",
   "metadata": {
    "id": "Auq4LccA8p_O"
   },
   "source": [
    "**menghapus kolom 'judul', 'tanggal', 'kategori' karena tidak digunakan**"
   ]
  },
  {
   "cell_type": "code",
   "execution_count": null,
   "metadata": {
    "id": "_O4mNwwUbl-G"
   },
   "outputs": [],
   "source": [
    "# drop the publish date.\n",
    "df.drop(['judul'],axis=1,inplace=True)\n",
    "df.drop(['tanggal'],axis=1,inplace=True)\n",
    "df.drop(['kategori'],axis=1,inplace=True)"
   ]
  },
  {
   "cell_type": "code",
   "execution_count": null,
   "metadata": {
    "colab": {
     "base_uri": "https://localhost:8080/",
     "height": 206
    },
    "id": "bXNKFLqNcFzQ",
    "outputId": "ff88fce5-9083-4c9e-fd0a-04e693776f0e"
   },
   "outputs": [
    {
     "data": {
      "text/html": [
       "\n",
       "  <div id=\"df-661bd30d-77ae-4fa2-8d8c-99e1bc9c94c9\">\n",
       "    <div class=\"colab-df-container\">\n",
       "      <div>\n",
       "<style scoped>\n",
       "    .dataframe tbody tr th:only-of-type {\n",
       "        vertical-align: middle;\n",
       "    }\n",
       "\n",
       "    .dataframe tbody tr th {\n",
       "        vertical-align: top;\n",
       "    }\n",
       "\n",
       "    .dataframe thead th {\n",
       "        text-align: right;\n",
       "    }\n",
       "</style>\n",
       "<table border=\"1\" class=\"dataframe\">\n",
       "  <thead>\n",
       "    <tr style=\"text-align: right;\">\n",
       "      <th></th>\n",
       "      <th>deskripsi</th>\n",
       "    </tr>\n",
       "  </thead>\n",
       "  <tbody>\n",
       "    <tr>\n",
       "      <th>0</th>\n",
       "      <td>Cara mengetahui akun Netflix telah diretas pen...</td>\n",
       "    </tr>\n",
       "    <tr>\n",
       "      <th>1</th>\n",
       "      <td>Saham Snap anjlok parah selama 2022. Bayangkan...</td>\n",
       "    </tr>\n",
       "    <tr>\n",
       "      <th>2</th>\n",
       "      <td>Microsoft mulai menyuntik mati web browser law...</td>\n",
       "    </tr>\n",
       "    <tr>\n",
       "      <th>3</th>\n",
       "      <td>Lahir dari semangat untuk mengembalikan cita-c...</td>\n",
       "    </tr>\n",
       "    <tr>\n",
       "      <th>4</th>\n",
       "      <td>Kode Redeem FF Free Fire, Rabu 15 Juni 2022 te...</td>\n",
       "    </tr>\n",
       "  </tbody>\n",
       "</table>\n",
       "</div>\n",
       "      <button class=\"colab-df-convert\" onclick=\"convertToInteractive('df-661bd30d-77ae-4fa2-8d8c-99e1bc9c94c9')\"\n",
       "              title=\"Convert this dataframe to an interactive table.\"\n",
       "              style=\"display:none;\">\n",
       "\n",
       "  <svg xmlns=\"http://www.w3.org/2000/svg\" height=\"24px\"viewBox=\"0 0 24 24\"\n",
       "       width=\"24px\">\n",
       "    <path d=\"M0 0h24v24H0V0z\" fill=\"none\"/>\n",
       "    <path d=\"M18.56 5.44l.94 2.06.94-2.06 2.06-.94-2.06-.94-.94-2.06-.94 2.06-2.06.94zm-11 1L8.5 8.5l.94-2.06 2.06-.94-2.06-.94L8.5 2.5l-.94 2.06-2.06.94zm10 10l.94 2.06.94-2.06 2.06-.94-2.06-.94-.94-2.06-.94 2.06-2.06.94z\"/><path d=\"M17.41 7.96l-1.37-1.37c-.4-.4-.92-.59-1.43-.59-.52 0-1.04.2-1.43.59L10.3 9.45l-7.72 7.72c-.78.78-.78 2.05 0 2.83L4 21.41c.39.39.9.59 1.41.59.51 0 1.02-.2 1.41-.59l7.78-7.78 2.81-2.81c.8-.78.8-2.07 0-2.86zM5.41 20L4 18.59l7.72-7.72 1.47 1.35L5.41 20z\"/>\n",
       "  </svg>\n",
       "      </button>\n",
       "\n",
       "  <style>\n",
       "    .colab-df-container {\n",
       "      display:flex;\n",
       "      flex-wrap:wrap;\n",
       "      gap: 12px;\n",
       "    }\n",
       "\n",
       "    .colab-df-convert {\n",
       "      background-color: #E8F0FE;\n",
       "      border: none;\n",
       "      border-radius: 50%;\n",
       "      cursor: pointer;\n",
       "      display: none;\n",
       "      fill: #1967D2;\n",
       "      height: 32px;\n",
       "      padding: 0 0 0 0;\n",
       "      width: 32px;\n",
       "    }\n",
       "\n",
       "    .colab-df-convert:hover {\n",
       "      background-color: #E2EBFA;\n",
       "      box-shadow: 0px 1px 2px rgba(60, 64, 67, 0.3), 0px 1px 3px 1px rgba(60, 64, 67, 0.15);\n",
       "      fill: #174EA6;\n",
       "    }\n",
       "\n",
       "    [theme=dark] .colab-df-convert {\n",
       "      background-color: #3B4455;\n",
       "      fill: #D2E3FC;\n",
       "    }\n",
       "\n",
       "    [theme=dark] .colab-df-convert:hover {\n",
       "      background-color: #434B5C;\n",
       "      box-shadow: 0px 1px 3px 1px rgba(0, 0, 0, 0.15);\n",
       "      filter: drop-shadow(0px 1px 2px rgba(0, 0, 0, 0.3));\n",
       "      fill: #FFFFFF;\n",
       "    }\n",
       "  </style>\n",
       "\n",
       "      <script>\n",
       "        const buttonEl =\n",
       "          document.querySelector('#df-661bd30d-77ae-4fa2-8d8c-99e1bc9c94c9 button.colab-df-convert');\n",
       "        buttonEl.style.display =\n",
       "          google.colab.kernel.accessAllowed ? 'block' : 'none';\n",
       "\n",
       "        async function convertToInteractive(key) {\n",
       "          const element = document.querySelector('#df-661bd30d-77ae-4fa2-8d8c-99e1bc9c94c9');\n",
       "          const dataTable =\n",
       "            await google.colab.kernel.invokeFunction('convertToInteractive',\n",
       "                                                     [key], {});\n",
       "          if (!dataTable) return;\n",
       "\n",
       "          const docLinkHtml = 'Like what you see? Visit the ' +\n",
       "            '<a target=\"_blank\" href=https://colab.research.google.com/notebooks/data_table.ipynb>data table notebook</a>'\n",
       "            + ' to learn more about interactive tables.';\n",
       "          element.innerHTML = '';\n",
       "          dataTable['output_type'] = 'display_data';\n",
       "          await google.colab.output.renderOutput(dataTable, element);\n",
       "          const docLink = document.createElement('div');\n",
       "          docLink.innerHTML = docLinkHtml;\n",
       "          element.appendChild(docLink);\n",
       "        }\n",
       "      </script>\n",
       "    </div>\n",
       "  </div>\n"
      ],
      "text/plain": [
       "                                           deskripsi\n",
       "0  Cara mengetahui akun Netflix telah diretas pen...\n",
       "1  Saham Snap anjlok parah selama 2022. Bayangkan...\n",
       "2  Microsoft mulai menyuntik mati web browser law...\n",
       "3  Lahir dari semangat untuk mengembalikan cita-c...\n",
       "4  Kode Redeem FF Free Fire, Rabu 15 Juni 2022 te..."
      ]
     },
     "execution_count": 10,
     "metadata": {},
     "output_type": "execute_result"
    }
   ],
   "source": [
    "df.head()"
   ]
  },
  {
   "cell_type": "markdown",
   "metadata": {
    "id": "e7yDG10VdTas"
   },
   "source": [
    "# Data Cleaning dan Preprocessing"
   ]
  },
  {
   "cell_type": "markdown",
   "metadata": {
    "id": "bGkjO9Oa9Va5"
   },
   "source": [
    "Di sini dilakukan preprocessing data. disini menggunakan lemmatizer atau bisa juga mengunakan stemmer. disini juga menggunakan stopword untuk kata2 panjangnya lebih dari 3 karakter guna mengurangi kata yang menyimpang."
   ]
  },
  {
   "cell_type": "code",
   "execution_count": null,
   "metadata": {
    "id": "lKkl4fFbdXq3"
   },
   "outputs": [],
   "source": [
    "def clean_text(deskripsi):\n",
    "  le=WordNetLemmatizer()\n",
    "  word_tokens=word_tokenize(deskripsi)\n",
    "  tokens=[le.lemmatize(w) for w in word_tokens if w not in stop_words and len(w)>3]\n",
    "  cleaned_text=\" \".join(tokens)\n",
    "  return cleaned_text"
   ]
  },
  {
   "cell_type": "code",
   "execution_count": null,
   "metadata": {
    "colab": {
     "base_uri": "https://localhost:8080/"
    },
    "id": "yrU5Texm2We7",
    "outputId": "551bbc69-9fe1-43b6-b495-4d2c749ce752"
   },
   "outputs": [
    {
     "name": "stderr",
     "output_type": "stream",
     "text": [
      "[nltk_data] Downloading package punkt to /root/nltk_data...\n",
      "[nltk_data]   Unzipping tokenizers/punkt.zip.\n",
      "[nltk_data] Downloading package wordnet to /root/nltk_data...\n",
      "[nltk_data]   Unzipping corpora/wordnet.zip.\n",
      "[nltk_data] Downloading package omw-1.4 to /root/nltk_data...\n",
      "[nltk_data]   Unzipping corpora/omw-1.4.zip.\n"
     ]
    },
    {
     "data": {
      "text/plain": [
       "True"
      ]
     },
     "execution_count": 12,
     "metadata": {},
     "output_type": "execute_result"
    }
   ],
   "source": [
    "import nltk\n",
    "nltk.download('punkt')\n",
    "nltk.download('wordnet')\n",
    "nltk.download('omw-1.4')"
   ]
  },
  {
   "cell_type": "code",
   "execution_count": null,
   "metadata": {
    "id": "QfyCnCdMdg4y"
   },
   "outputs": [],
   "source": [
    "# time taking\n",
    "df['deskripsi_cleaned_text']=df['deskripsi'].apply(clean_text)"
   ]
  },
  {
   "cell_type": "code",
   "execution_count": null,
   "metadata": {
    "colab": {
     "base_uri": "https://localhost:8080/",
     "height": 206
    },
    "id": "KtJ4JHjAfLn5",
    "outputId": "fdff6663-1511-4f97-d292-df6b7fc75746"
   },
   "outputs": [
    {
     "data": {
      "text/html": [
       "\n",
       "  <div id=\"df-37293963-de16-42a6-aada-15b335ef1417\">\n",
       "    <div class=\"colab-df-container\">\n",
       "      <div>\n",
       "<style scoped>\n",
       "    .dataframe tbody tr th:only-of-type {\n",
       "        vertical-align: middle;\n",
       "    }\n",
       "\n",
       "    .dataframe tbody tr th {\n",
       "        vertical-align: top;\n",
       "    }\n",
       "\n",
       "    .dataframe thead th {\n",
       "        text-align: right;\n",
       "    }\n",
       "</style>\n",
       "<table border=\"1\" class=\"dataframe\">\n",
       "  <thead>\n",
       "    <tr style=\"text-align: right;\">\n",
       "      <th></th>\n",
       "      <th>deskripsi</th>\n",
       "      <th>deskripsi_cleaned_text</th>\n",
       "    </tr>\n",
       "  </thead>\n",
       "  <tbody>\n",
       "    <tr>\n",
       "      <th>0</th>\n",
       "      <td>Cara mengetahui akun Netflix telah diretas pen...</td>\n",
       "      <td>Cara mengetahui akun Netflix telah diretas pen...</td>\n",
       "    </tr>\n",
       "    <tr>\n",
       "      <th>1</th>\n",
       "      <td>Saham Snap anjlok parah selama 2022. Bayangkan...</td>\n",
       "      <td>Saham Snap anjlok parah selama 2022 Bayangkan ...</td>\n",
       "    </tr>\n",
       "    <tr>\n",
       "      <th>2</th>\n",
       "      <td>Microsoft mulai menyuntik mati web browser law...</td>\n",
       "      <td>Microsoft mulai menyuntik mati browser lawas m...</td>\n",
       "    </tr>\n",
       "    <tr>\n",
       "      <th>3</th>\n",
       "      <td>Lahir dari semangat untuk mengembalikan cita-c...</td>\n",
       "      <td>Lahir dari semangat untuk mengembalikan cita-c...</td>\n",
       "    </tr>\n",
       "    <tr>\n",
       "      <th>4</th>\n",
       "      <td>Kode Redeem FF Free Fire, Rabu 15 Juni 2022 te...</td>\n",
       "      <td>Kode Redeem Free Fire Rabu Juni 2022 telah ter...</td>\n",
       "    </tr>\n",
       "  </tbody>\n",
       "</table>\n",
       "</div>\n",
       "      <button class=\"colab-df-convert\" onclick=\"convertToInteractive('df-37293963-de16-42a6-aada-15b335ef1417')\"\n",
       "              title=\"Convert this dataframe to an interactive table.\"\n",
       "              style=\"display:none;\">\n",
       "\n",
       "  <svg xmlns=\"http://www.w3.org/2000/svg\" height=\"24px\"viewBox=\"0 0 24 24\"\n",
       "       width=\"24px\">\n",
       "    <path d=\"M0 0h24v24H0V0z\" fill=\"none\"/>\n",
       "    <path d=\"M18.56 5.44l.94 2.06.94-2.06 2.06-.94-2.06-.94-.94-2.06-.94 2.06-2.06.94zm-11 1L8.5 8.5l.94-2.06 2.06-.94-2.06-.94L8.5 2.5l-.94 2.06-2.06.94zm10 10l.94 2.06.94-2.06 2.06-.94-2.06-.94-.94-2.06-.94 2.06-2.06.94z\"/><path d=\"M17.41 7.96l-1.37-1.37c-.4-.4-.92-.59-1.43-.59-.52 0-1.04.2-1.43.59L10.3 9.45l-7.72 7.72c-.78.78-.78 2.05 0 2.83L4 21.41c.39.39.9.59 1.41.59.51 0 1.02-.2 1.41-.59l7.78-7.78 2.81-2.81c.8-.78.8-2.07 0-2.86zM5.41 20L4 18.59l7.72-7.72 1.47 1.35L5.41 20z\"/>\n",
       "  </svg>\n",
       "      </button>\n",
       "\n",
       "  <style>\n",
       "    .colab-df-container {\n",
       "      display:flex;\n",
       "      flex-wrap:wrap;\n",
       "      gap: 12px;\n",
       "    }\n",
       "\n",
       "    .colab-df-convert {\n",
       "      background-color: #E8F0FE;\n",
       "      border: none;\n",
       "      border-radius: 50%;\n",
       "      cursor: pointer;\n",
       "      display: none;\n",
       "      fill: #1967D2;\n",
       "      height: 32px;\n",
       "      padding: 0 0 0 0;\n",
       "      width: 32px;\n",
       "    }\n",
       "\n",
       "    .colab-df-convert:hover {\n",
       "      background-color: #E2EBFA;\n",
       "      box-shadow: 0px 1px 2px rgba(60, 64, 67, 0.3), 0px 1px 3px 1px rgba(60, 64, 67, 0.15);\n",
       "      fill: #174EA6;\n",
       "    }\n",
       "\n",
       "    [theme=dark] .colab-df-convert {\n",
       "      background-color: #3B4455;\n",
       "      fill: #D2E3FC;\n",
       "    }\n",
       "\n",
       "    [theme=dark] .colab-df-convert:hover {\n",
       "      background-color: #434B5C;\n",
       "      box-shadow: 0px 1px 3px 1px rgba(0, 0, 0, 0.15);\n",
       "      filter: drop-shadow(0px 1px 2px rgba(0, 0, 0, 0.3));\n",
       "      fill: #FFFFFF;\n",
       "    }\n",
       "  </style>\n",
       "\n",
       "      <script>\n",
       "        const buttonEl =\n",
       "          document.querySelector('#df-37293963-de16-42a6-aada-15b335ef1417 button.colab-df-convert');\n",
       "        buttonEl.style.display =\n",
       "          google.colab.kernel.accessAllowed ? 'block' : 'none';\n",
       "\n",
       "        async function convertToInteractive(key) {\n",
       "          const element = document.querySelector('#df-37293963-de16-42a6-aada-15b335ef1417');\n",
       "          const dataTable =\n",
       "            await google.colab.kernel.invokeFunction('convertToInteractive',\n",
       "                                                     [key], {});\n",
       "          if (!dataTable) return;\n",
       "\n",
       "          const docLinkHtml = 'Like what you see? Visit the ' +\n",
       "            '<a target=\"_blank\" href=https://colab.research.google.com/notebooks/data_table.ipynb>data table notebook</a>'\n",
       "            + ' to learn more about interactive tables.';\n",
       "          element.innerHTML = '';\n",
       "          dataTable['output_type'] = 'display_data';\n",
       "          await google.colab.output.renderOutput(dataTable, element);\n",
       "          const docLink = document.createElement('div');\n",
       "          docLink.innerHTML = docLinkHtml;\n",
       "          element.appendChild(docLink);\n",
       "        }\n",
       "      </script>\n",
       "    </div>\n",
       "  </div>\n"
      ],
      "text/plain": [
       "                                           deskripsi  \\\n",
       "0  Cara mengetahui akun Netflix telah diretas pen...   \n",
       "1  Saham Snap anjlok parah selama 2022. Bayangkan...   \n",
       "2  Microsoft mulai menyuntik mati web browser law...   \n",
       "3  Lahir dari semangat untuk mengembalikan cita-c...   \n",
       "4  Kode Redeem FF Free Fire, Rabu 15 Juni 2022 te...   \n",
       "\n",
       "                              deskripsi_cleaned_text  \n",
       "0  Cara mengetahui akun Netflix telah diretas pen...  \n",
       "1  Saham Snap anjlok parah selama 2022 Bayangkan ...  \n",
       "2  Microsoft mulai menyuntik mati browser lawas m...  \n",
       "3  Lahir dari semangat untuk mengembalikan cita-c...  \n",
       "4  Kode Redeem Free Fire Rabu Juni 2022 telah ter...  "
      ]
     },
     "execution_count": 14,
     "metadata": {},
     "output_type": "execute_result"
    }
   ],
   "source": [
    "df.head()"
   ]
  },
  {
   "cell_type": "markdown",
   "metadata": {
    "id": "EdmkR8HN_AMT"
   },
   "source": [
    "Dapat dilihat perbedaan setelah di clening datanya dan dilakukan penghapusan stopwords, juga kata2 yang sudah dilematisasi."
   ]
  },
  {
   "cell_type": "markdown",
   "metadata": {
    "id": "DVvFqcTByrdi"
   },
   "source": [
    "melakukan penghapusan kolom yang belum di proses (dilakukan cleaning data)"
   ]
  },
  {
   "cell_type": "code",
   "execution_count": null,
   "metadata": {
    "id": "my4-uqfzs8Hn"
   },
   "outputs": [],
   "source": [
    "df.drop(['deskripsi'],axis=1,inplace=True)"
   ]
  },
  {
   "cell_type": "code",
   "execution_count": null,
   "metadata": {
    "colab": {
     "base_uri": "https://localhost:8080/",
     "height": 206
    },
    "id": "Rrpu-pEwy6gd",
    "outputId": "aac71dd8-2bfa-460a-8a5e-9de405b1f51b"
   },
   "outputs": [
    {
     "data": {
      "text/html": [
       "\n",
       "  <div id=\"df-21960037-e15e-455c-8592-35a89e0c3d72\">\n",
       "    <div class=\"colab-df-container\">\n",
       "      <div>\n",
       "<style scoped>\n",
       "    .dataframe tbody tr th:only-of-type {\n",
       "        vertical-align: middle;\n",
       "    }\n",
       "\n",
       "    .dataframe tbody tr th {\n",
       "        vertical-align: top;\n",
       "    }\n",
       "\n",
       "    .dataframe thead th {\n",
       "        text-align: right;\n",
       "    }\n",
       "</style>\n",
       "<table border=\"1\" class=\"dataframe\">\n",
       "  <thead>\n",
       "    <tr style=\"text-align: right;\">\n",
       "      <th></th>\n",
       "      <th>deskripsi_cleaned_text</th>\n",
       "    </tr>\n",
       "  </thead>\n",
       "  <tbody>\n",
       "    <tr>\n",
       "      <th>0</th>\n",
       "      <td>Cara mengetahui akun Netflix telah diretas pen...</td>\n",
       "    </tr>\n",
       "    <tr>\n",
       "      <th>1</th>\n",
       "      <td>Saham Snap anjlok parah selama 2022 Bayangkan ...</td>\n",
       "    </tr>\n",
       "    <tr>\n",
       "      <th>2</th>\n",
       "      <td>Microsoft mulai menyuntik mati browser lawas m...</td>\n",
       "    </tr>\n",
       "    <tr>\n",
       "      <th>3</th>\n",
       "      <td>Lahir dari semangat untuk mengembalikan cita-c...</td>\n",
       "    </tr>\n",
       "    <tr>\n",
       "      <th>4</th>\n",
       "      <td>Kode Redeem Free Fire Rabu Juni 2022 telah ter...</td>\n",
       "    </tr>\n",
       "  </tbody>\n",
       "</table>\n",
       "</div>\n",
       "      <button class=\"colab-df-convert\" onclick=\"convertToInteractive('df-21960037-e15e-455c-8592-35a89e0c3d72')\"\n",
       "              title=\"Convert this dataframe to an interactive table.\"\n",
       "              style=\"display:none;\">\n",
       "\n",
       "  <svg xmlns=\"http://www.w3.org/2000/svg\" height=\"24px\"viewBox=\"0 0 24 24\"\n",
       "       width=\"24px\">\n",
       "    <path d=\"M0 0h24v24H0V0z\" fill=\"none\"/>\n",
       "    <path d=\"M18.56 5.44l.94 2.06.94-2.06 2.06-.94-2.06-.94-.94-2.06-.94 2.06-2.06.94zm-11 1L8.5 8.5l.94-2.06 2.06-.94-2.06-.94L8.5 2.5l-.94 2.06-2.06.94zm10 10l.94 2.06.94-2.06 2.06-.94-2.06-.94-.94-2.06-.94 2.06-2.06.94z\"/><path d=\"M17.41 7.96l-1.37-1.37c-.4-.4-.92-.59-1.43-.59-.52 0-1.04.2-1.43.59L10.3 9.45l-7.72 7.72c-.78.78-.78 2.05 0 2.83L4 21.41c.39.39.9.59 1.41.59.51 0 1.02-.2 1.41-.59l7.78-7.78 2.81-2.81c.8-.78.8-2.07 0-2.86zM5.41 20L4 18.59l7.72-7.72 1.47 1.35L5.41 20z\"/>\n",
       "  </svg>\n",
       "      </button>\n",
       "\n",
       "  <style>\n",
       "    .colab-df-container {\n",
       "      display:flex;\n",
       "      flex-wrap:wrap;\n",
       "      gap: 12px;\n",
       "    }\n",
       "\n",
       "    .colab-df-convert {\n",
       "      background-color: #E8F0FE;\n",
       "      border: none;\n",
       "      border-radius: 50%;\n",
       "      cursor: pointer;\n",
       "      display: none;\n",
       "      fill: #1967D2;\n",
       "      height: 32px;\n",
       "      padding: 0 0 0 0;\n",
       "      width: 32px;\n",
       "    }\n",
       "\n",
       "    .colab-df-convert:hover {\n",
       "      background-color: #E2EBFA;\n",
       "      box-shadow: 0px 1px 2px rgba(60, 64, 67, 0.3), 0px 1px 3px 1px rgba(60, 64, 67, 0.15);\n",
       "      fill: #174EA6;\n",
       "    }\n",
       "\n",
       "    [theme=dark] .colab-df-convert {\n",
       "      background-color: #3B4455;\n",
       "      fill: #D2E3FC;\n",
       "    }\n",
       "\n",
       "    [theme=dark] .colab-df-convert:hover {\n",
       "      background-color: #434B5C;\n",
       "      box-shadow: 0px 1px 3px 1px rgba(0, 0, 0, 0.15);\n",
       "      filter: drop-shadow(0px 1px 2px rgba(0, 0, 0, 0.3));\n",
       "      fill: #FFFFFF;\n",
       "    }\n",
       "  </style>\n",
       "\n",
       "      <script>\n",
       "        const buttonEl =\n",
       "          document.querySelector('#df-21960037-e15e-455c-8592-35a89e0c3d72 button.colab-df-convert');\n",
       "        buttonEl.style.display =\n",
       "          google.colab.kernel.accessAllowed ? 'block' : 'none';\n",
       "\n",
       "        async function convertToInteractive(key) {\n",
       "          const element = document.querySelector('#df-21960037-e15e-455c-8592-35a89e0c3d72');\n",
       "          const dataTable =\n",
       "            await google.colab.kernel.invokeFunction('convertToInteractive',\n",
       "                                                     [key], {});\n",
       "          if (!dataTable) return;\n",
       "\n",
       "          const docLinkHtml = 'Like what you see? Visit the ' +\n",
       "            '<a target=\"_blank\" href=https://colab.research.google.com/notebooks/data_table.ipynb>data table notebook</a>'\n",
       "            + ' to learn more about interactive tables.';\n",
       "          element.innerHTML = '';\n",
       "          dataTable['output_type'] = 'display_data';\n",
       "          await google.colab.output.renderOutput(dataTable, element);\n",
       "          const docLink = document.createElement('div');\n",
       "          docLink.innerHTML = docLinkHtml;\n",
       "          element.appendChild(docLink);\n",
       "        }\n",
       "      </script>\n",
       "    </div>\n",
       "  </div>\n"
      ],
      "text/plain": [
       "                              deskripsi_cleaned_text\n",
       "0  Cara mengetahui akun Netflix telah diretas pen...\n",
       "1  Saham Snap anjlok parah selama 2022 Bayangkan ...\n",
       "2  Microsoft mulai menyuntik mati browser lawas m...\n",
       "3  Lahir dari semangat untuk mengembalikan cita-c...\n",
       "4  Kode Redeem Free Fire Rabu Juni 2022 telah ter..."
      ]
     },
     "execution_count": 16,
     "metadata": {},
     "output_type": "execute_result"
    }
   ],
   "source": [
    "df.head()"
   ]
  },
  {
   "cell_type": "markdown",
   "metadata": {
    "id": "TGlpxS_qzM6O"
   },
   "source": [
    "disini bisa dilihat deskripsi dari dokumen tertentu"
   ]
  },
  {
   "cell_type": "code",
   "execution_count": null,
   "metadata": {
    "colab": {
     "base_uri": "https://localhost:8080/",
     "height": 36
    },
    "id": "_VL5iJ_2zQU4",
    "outputId": "eb5de89a-fbef-496d-9727-d8f2d0a886ba"
   },
   "outputs": [
    {
     "data": {
      "application/vnd.google.colaboratory.intrinsic+json": {
       "type": "string"
      },
      "text/plain": [
       "'Cara mengetahui akun Netflix telah diretas penting diketahui Sebab bukan rahasia lagi bahwa akun Netflix bisa diretas atau ditebengi'"
      ]
     },
     "execution_count": 17,
     "metadata": {},
     "output_type": "execute_result"
    }
   ],
   "source": [
    "df['deskripsi_cleaned_text'][0]"
   ]
  },
  {
   "cell_type": "markdown",
   "metadata": {
    "id": "SdNo67Ucz5qs"
   },
   "source": [
    "**EXTRACTING THE FEATURES AND CREATING THE DOCUMENT-TERM-MATRIX ( DTM )**\n",
    "MENGEKSTRAK FITUR DAN MEMBUAT DOCUMENT-TERM-MATRIX ( DTM )\n",
    "Dalam DTM nilainya adalah nilai TFidf.\n",
    "\n",
    "Saya juga telah menentukan beberapa parameter dari vectorizer Tfidf.\n",
    "\n",
    "Beberapa poin penting:-\n",
    "\n",
    "1) LSA umumnya diimplementasikan dengan nilai Tfidf di mana-mana dan tidak dengan Count Vectorizer.\n",
    "\n",
    "2) max_features tergantung pada daya komputasi Anda dan juga pada eval. metrik (skor koherensi adalah metrik untuk model topik). Coba nilai yang memberikan evaluasi terbaik. metrik dan tidak membatasi kekuatan pemrosesan.\n",
    "\n",
    "3) Nilai default untuk min_df & max_df bekerja dengan baik.\n",
    "\n",
    "4) Dapat mencoba nilai yang berbeda untuk ngram_range."
   ]
  },
  {
   "cell_type": "code",
   "execution_count": null,
   "metadata": {
    "id": "hsP4FieEz_Za"
   },
   "outputs": [],
   "source": [
    "vect =TfidfVectorizer(stop_words=stop_words,max_features=1000) # to play with. min_df,max_df,max_features etc..."
   ]
  },
  {
   "cell_type": "code",
   "execution_count": null,
   "metadata": {
    "id": "GTR3iKe80KX8"
   },
   "outputs": [],
   "source": [
    "vect_text=vect.fit_transform(df['deskripsi_cleaned_text'])"
   ]
  },
  {
   "cell_type": "markdown",
   "metadata": {
    "id": "Q4cgCTXeAfev"
   },
   "source": [
    "Disini dapat melihat kata-kata yang paling sering dan langka di berita utama berdasarkan skor idf. Semakin kecil nilainya; lebih umum adalah kata dalam berita utama."
   ]
  },
  {
   "cell_type": "code",
   "execution_count": null,
   "metadata": {
    "colab": {
     "base_uri": "https://localhost:8080/"
    },
    "id": "nNeliMN60TJU",
    "outputId": "9f0dbe5f-083c-4902-9c03-71bab40b0140"
   },
   "outputs": [
    {
     "name": "stdout",
     "output_type": "stream",
     "text": [
      "(21, 295)\n",
      "  (0, 71)\t0.21510592742823753\n",
      "  (0, 21)\t0.15709955823506186\n",
      "  (0, 42)\t0.1455575757972026\n",
      "  (0, 25)\t0.21510592742823753\n",
      "  (0, 134)\t0.18943770015307254\n",
      "  (0, 220)\t0.21510592742823753\n",
      "  (0, 45)\t0.21510592742823753\n",
      "  (0, 233)\t0.1712258030723676\n",
      "  (0, 63)\t0.1712258030723676\n",
      "  (0, 207)\t0.1712258030723676\n",
      "  (0, 69)\t0.43021185485647506\n",
      "  (0, 268)\t0.1712258030723676\n",
      "  (0, 190)\t0.43021185485647506\n",
      "  (0, 11)\t0.43021185485647506\n",
      "  (0, 171)\t0.21510592742823753\n",
      "  (0, 47)\t0.11988934852203764\n",
      "  (1, 294)\t0.1784314875285248\n",
      "  (1, 200)\t0.1784314875285248\n",
      "  (1, 208)\t0.1784314875285248\n",
      "  (1, 175)\t0.1784314875285248\n",
      "  (1, 285)\t0.1784314875285248\n",
      "  (1, 17)\t0.1784314875285248\n",
      "  (1, 180)\t0.1784314875285248\n",
      "  (1, 213)\t0.1784314875285248\n",
      "  (1, 3)\t0.1784314875285248\n",
      "  :\t:\n",
      "  (19, 52)\t0.17569661346648918\n",
      "  (19, 216)\t0.15880573778918436\n",
      "  (19, 228)\t0.15880573778918436\n",
      "  (19, 140)\t0.17569661346648918\n",
      "  (19, 5)\t0.14570415675801893\n",
      "  (19, 174)\t0.17569661346648918\n",
      "  (19, 283)\t0.11810850993229458\n",
      "  (19, 55)\t0.12594863056482455\n",
      "  (19, 293)\t0.09941091666395281\n",
      "  (20, 124)\t0.266802234347114\n",
      "  (20, 215)\t0.266802234347114\n",
      "  (20, 155)\t0.266802234347114\n",
      "  (20, 235)\t0.266802234347114\n",
      "  (20, 19)\t0.4699303480354352\n",
      "  (20, 212)\t0.2349651740177176\n",
      "  (20, 176)\t0.2349651740177176\n",
      "  (20, 24)\t0.2349651740177176\n",
      "  (20, 185)\t0.21237642023057343\n",
      "  (20, 51)\t0.2349651740177176\n",
      "  (20, 64)\t0.21237642023057343\n",
      "  (20, 266)\t0.2349651740177176\n",
      "  (20, 291)\t0.21237642023057343\n",
      "  (20, 55)\t0.16843547131659223\n",
      "  (20, 42)\t0.18053935990117706\n",
      "  (20, 47)\t0.14870229957178074\n"
     ]
    }
   ],
   "source": [
    "print(vect_text.shape)\n",
    "print(vect_text)"
   ]
  },
  {
   "cell_type": "code",
   "execution_count": null,
   "metadata": {
    "id": "UNLO-M4K0YIp"
   },
   "outputs": [],
   "source": [
    "idf=vect.idf_"
   ]
  },
  {
   "cell_type": "code",
   "execution_count": null,
   "metadata": {
    "colab": {
     "base_uri": "https://localhost:8080/"
    },
    "id": "7hrmUhrI0b69",
    "outputId": "3ea10a5d-c5c7-41e4-d487-06008acbd310"
   },
   "outputs": [
    {
     "name": "stdout",
     "output_type": "stream",
     "text": [
      "yang york\n",
      "2.7047480922384253\n",
      "3.3978952727983707\n"
     ]
    },
    {
     "name": "stderr",
     "output_type": "stream",
     "text": [
      "/usr/local/lib/python3.7/dist-packages/sklearn/utils/deprecation.py:87: FutureWarning: Function get_feature_names is deprecated; get_feature_names is deprecated in 1.0 and will be removed in 1.2. Please use get_feature_names_out instead.\n",
      "  warnings.warn(msg, category=FutureWarning)\n"
     ]
    }
   ],
   "source": [
    "dd=dict(zip(vect.get_feature_names(), idf))\n",
    "l=sorted(dd, key=(dd).get)\n",
    "# print(l)\n",
    "print(l[0],l[-1])\n",
    "print(dd['teknologi'])\n",
    "print(dd['lahir'])  # teknologi is most common and lahir is least common among the news deskripsi."
   ]
  },
  {
   "cell_type": "markdown",
   "metadata": {
    "id": "Ca0PhKNoA1ZI"
   },
   "source": [
    "Oleh karena itu kita dapat melihat bahwa berdasarkan nilai idf , '##' adalah kata yang paling sering muncul sedangkan '##' paling jarang muncul di antara berita."
   ]
  },
  {
   "cell_type": "markdown",
   "metadata": {
    "id": "Sv0PUH95BIgs"
   },
   "source": [
    "# Topic Modeling"
   ]
  },
  {
   "cell_type": "markdown",
   "metadata": {
    "id": "VpsIARt40jeJ"
   },
   "source": [
    "# **Latent Semantic Analysis (LSA)**"
   ]
  },
  {
   "cell_type": "markdown",
   "metadata": {
    "id": "Vc4DpBetBe_Y"
   },
   "source": [
    "Pendekatan pertama yang saya gunakan adalah LSA. LSA pada dasarnya adalah dekomposisi nilai tunggal.\n",
    "\n",
    "SVD menguraikan DTM asli menjadi tiga matriks S=U.(sigma).(V.T). Di sini matriks U menunjukkan matriks dokumen-topik sementara (V) adalah matriks topik-term.\n",
    "\n",
    "Setiap baris dari matriks U (matriks istilah dokumen) adalah representasi vektor dari dokumen yang sesuai. Panjang vektor ini adalah jumlah topik yang diinginkan. Representasi vektor untuk suku-suku dalam data kami dapat ditemukan dalam matriks V (matriks istilah-topik).\n",
    "\n",
    "Jadi, SVD memberi kita vektor untuk setiap dokumen dan istilah dalam data kita. Panjang setiap vektor adalah k. Kami kemudian dapat menggunakan vektor-vektor ini untuk menemukan kata-kata dan dokumen serupa menggunakan metode kesamaan kosinus.\n",
    "\n",
    "Kita dapat menggunakan fungsi truncatedSVD untuk mengimplementasikan LSA. Parameter n_components adalah jumlah topik yang ingin kita ekstrak. Model tersebut kemudian di fit dan ditransformasikan pada hasil yang diberikan oleh vectorizer.\n",
    "\n",
    "Terakhir perhatikan bahwa LSA dan LSI (I untuk pengindeksan) adalah sama dan yang terakhir kadang-kadang digunakan dalam konteks pencarian informasi."
   ]
  },
  {
   "cell_type": "code",
   "execution_count": null,
   "metadata": {
    "id": "i2pgKt-W0ttC"
   },
   "outputs": [],
   "source": [
    "from sklearn.decomposition import TruncatedSVD\n",
    "lsa_model = TruncatedSVD(n_components=10, algorithm='randomized', n_iter=10, random_state=42)\n",
    "\n",
    "lsa_top=lsa_model.fit_transform(vect_text)"
   ]
  },
  {
   "cell_type": "code",
   "execution_count": null,
   "metadata": {
    "colab": {
     "base_uri": "https://localhost:8080/"
    },
    "id": "bXOwn7Tl00Xj",
    "outputId": "530ccb25-2de3-499a-c05b-c83348d91bea"
   },
   "outputs": [
    {
     "name": "stdout",
     "output_type": "stream",
     "text": [
      "[[ 0.25742185 -0.03161886 -0.01138897  0.50372538 -0.0342161  -0.14603219\n",
      "  -0.12628748 -0.08896652  0.10046334  0.0592342 ]\n",
      " [ 0.01623844 -0.07151453  0.1054646   0.03019808  0.03879383  0.00259219\n",
      "   0.22682061  0.55913502 -0.05963524  0.73566293]\n",
      " [ 0.08377738 -0.19352725  0.16868346  0.0056004  -0.12275018 -0.03712819\n",
      "   0.11975293  0.61306582 -0.27675542 -0.33275338]\n",
      " [ 0.11422643 -0.11757664 -0.07624856 -0.24486482 -0.25233046  0.01547863\n",
      "  -0.18512861  0.07131659  0.61672533  0.22887443]\n",
      " [ 0.18045522 -0.43531571  0.51990499  0.14122841  0.18968292  0.06137045\n",
      "   0.21778378 -0.1209226   0.1627438  -0.08077442]\n",
      " [ 0.27818901 -0.36998051 -0.35579375 -0.04598082  0.07408492  0.43550079\n",
      "  -0.00455211 -0.06520083 -0.09465578  0.07234841]\n",
      " [ 0.21874506 -0.01026797 -0.1504007   0.58861822 -0.24322425 -0.10705084\n",
      "  -0.08502635  0.01159477  0.04588574  0.0300113 ]\n",
      " [ 0.61973751  0.38857202  0.07721854 -0.09941083  0.08363882  0.04459285\n",
      "  -0.07900138  0.04643435  0.05595482  0.03401843]\n",
      " [ 0.39173719  0.07333375 -0.13376255 -0.0719785  -0.20331962 -0.16436595\n",
      "   0.48875987 -0.1449509  -0.05048173 -0.08725024]\n",
      " [ 0.20508224 -0.18953006 -0.05337333 -0.31656447 -0.30428024 -0.06225586\n",
      "   0.08515286  0.24809695  0.04806624 -0.35978389]\n",
      " [ 0.12808484 -0.20668707  0.09436666 -0.05879485 -0.32606329 -0.0306948\n",
      "  -0.48302498  0.00438257 -0.35936844  0.06048581]\n",
      " [ 0.28715502 -0.35035429 -0.42704929 -0.00863114  0.36844453 -0.25615398\n",
      "  -0.06183612  0.02546774  0.0374146   0.02431594]\n",
      " [ 0.13727787 -0.23506736 -0.34195387 -0.09475746  0.46509333 -0.43213071\n",
      "  -0.07102443  0.11678267  0.01013648 -0.07433793]\n",
      " [ 0.48877801  0.17213427  0.13003859 -0.17708633  0.1917032  -0.04318903\n",
      "  -0.19533241 -0.00227246 -0.14139518  0.03522665]\n",
      " [ 0.1717482  -0.34343875  0.21522938 -0.12222486 -0.21353125 -0.09501174\n",
      "  -0.43118356 -0.10649454 -0.11965781  0.10507411]\n",
      " [ 0.0905024  -0.14502564 -0.03338277 -0.11934668 -0.15792072 -0.1865423\n",
      "   0.31947063 -0.39459272 -0.48488937  0.29403101]\n",
      " [ 0.26626948 -0.1855244  -0.23137011 -0.01868468  0.07289798  0.69100859\n",
      "   0.05610235 -0.02252161 -0.04755235 -0.02166889]\n",
      " [ 0.25045992 -0.32488849  0.60672119  0.07342536  0.21912384 -0.0066794\n",
      "   0.09944421 -0.11017459  0.13783509 -0.02812352]\n",
      " [ 0.34158556  0.0452421  -0.13482683  0.50714272 -0.18434206  0.04707376\n",
      "   0.0563622   0.12925138 -0.02695751 -0.09204654]\n",
      " [ 0.19354497 -0.19164168 -0.115541   -0.17770714 -0.44170359 -0.16184052\n",
      "   0.2154391  -0.09752631  0.28725801  0.0585063 ]\n",
      " [ 0.61213803  0.47657687  0.14276347 -0.16380418  0.06438638  0.00595436\n",
      "  -0.01677259  0.01369987 -0.01763571  0.0258739 ]]\n",
      "(21, 10)\n"
     ]
    }
   ],
   "source": [
    "print(lsa_top)\n",
    "print(lsa_top.shape)  # (no_of_doc*no_of_topics)"
   ]
  },
  {
   "cell_type": "code",
   "execution_count": null,
   "metadata": {
    "colab": {
     "base_uri": "https://localhost:8080/"
    },
    "id": "8sQyBdrJ025A",
    "outputId": "4dfa4f8d-1a17-4c28-a28e-1d028248d6af"
   },
   "outputs": [
    {
     "name": "stdout",
     "output_type": "stream",
     "text": [
      "Document 0 :\n",
      "Topic  0  :  25.742184561735606\n",
      "Topic  1  :  -3.1618857866723027\n",
      "Topic  2  :  -1.1388970783845738\n",
      "Topic  3  :  50.37253757613326\n",
      "Topic  4  :  -3.4216101882007757\n",
      "Topic  5  :  -14.603219225227532\n",
      "Topic  6  :  -12.628748427085624\n",
      "Topic  7  :  -8.89665242605737\n",
      "Topic  8  :  10.046334026812213\n",
      "Topic  9  :  5.923420175686057\n"
     ]
    }
   ],
   "source": [
    "l=lsa_top[0]\n",
    "print(\"Document 0 :\")\n",
    "for i,topic in enumerate(l):\n",
    "  print(\"Topic \",i,\" : \",topic*100)\n",
    "  "
   ]
  },
  {
   "cell_type": "markdown",
   "metadata": {
    "id": "T8Nb59z6BqnK"
   },
   "source": [
    "Demikian pula untuk dokumen lain kita bisa melakukan ini. Namun perhatikan bahwa nilai tidak menambah 1 seperti di LSA itu bukan kemungkinan topik dalam dokumen."
   ]
  },
  {
   "cell_type": "code",
   "execution_count": null,
   "metadata": {
    "colab": {
     "base_uri": "https://localhost:8080/"
    },
    "id": "aqLUAmd-06EG",
    "outputId": "ceba900e-a178-4c39-eb02-7aad8e4de1e3"
   },
   "outputs": [
    {
     "name": "stdout",
     "output_type": "stream",
     "text": [
      "(10, 295)\n",
      "[[ 0.00154058  0.00154058  0.0443039  ...  0.01088101  0.15914309\n",
      "   0.00154058]\n",
      " [-0.00930513 -0.00930513 -0.11060382 ... -0.02391286 -0.23556475\n",
      "  -0.00930513]\n",
      " [ 0.01406598  0.01406598  0.16909741 ... -0.00564235  0.14459831\n",
      "   0.01406598]\n",
      " ...\n",
      " [ 0.09727571  0.09727571  0.0353494  ... -0.08699827 -0.0151985\n",
      "   0.09727571]\n",
      " [-0.0104184  -0.0104184   0.04660676 ... -0.10738852 -0.15896397\n",
      "  -0.0104184 ]\n",
      " [ 0.13380203  0.13380203  0.08607748 ...  0.06777396  0.00114764\n",
      "   0.13380203]]\n"
     ]
    }
   ],
   "source": [
    "print(lsa_model.components_.shape) # (no_of_topics*no_of_words)\n",
    "print(lsa_model.components_)"
   ]
  },
  {
   "cell_type": "markdown",
   "metadata": {
    "id": "J64q5QbgCRX0"
   },
   "source": [
    "Sekarang e bisa mendapatkan daftar kata-kata penting untuk masing-masing dari 10 topik seperti yang ditunjukkan. Untuk kesederhanaan di sini saya telah menunjukkan 10 kata untuk setiap topik."
   ]
  },
  {
   "cell_type": "code",
   "execution_count": null,
   "metadata": {
    "colab": {
     "base_uri": "https://localhost:8080/"
    },
    "id": "CsPROgwN1A7_",
    "outputId": "708a6f1f-68b8-42ec-af6c-34234392bb49"
   },
   "outputs": [
    {
     "name": "stdout",
     "output_type": "stream",
     "text": [
      "Topic 0: \n",
      "cara bisa dengan aplikasi dilakukan xiaomi mudah bahkan cukup tanpa \n",
      "\n",
      "Topic 1: \n",
      "aplikasi dilakukan bahkan cukup tanpa cara xiaomi mudah menyembunyikan ketiga \n",
      "\n",
      "Topic 2: \n",
      "bisa juni segera fire free karena kode redeem 2022 yang \n",
      "\n",
      "Topic 3: \n",
      "macbook diketahui penting fastboot akun diretas netflix sebab oleh pengguna \n",
      "\n",
      "Topic 4: \n",
      "headphone erajaya bone conduction teknologi bisa menggunakan dulunya group jaringan \n",
      "\n",
      "Topic 5: \n",
      "data serangan siber aman anda kena marak memang sadap sedang \n",
      "\n",
      "Topic 6: \n",
      "video samsung foto menyembunyikan dalam ponsel tidak segera berupa bingung \n",
      "\n",
      "Topic 7: \n",
      "pada saham snap akan mereka browser dampaknya explorer internet komputer \n",
      "\n",
      "Topic 8: \n",
      "cita untuk menjadi berdaulat berlandaskan bersatu hadir indonesia kemerdekaan lahir \n",
      "\n",
      "Topic 9: \n",
      "saham snap 2021 74 11 angka york bayangkan diperdagangkan lembar \n",
      "\n"
     ]
    },
    {
     "name": "stderr",
     "output_type": "stream",
     "text": [
      "/usr/local/lib/python3.7/dist-packages/sklearn/utils/deprecation.py:87: FutureWarning: Function get_feature_names is deprecated; get_feature_names is deprecated in 1.0 and will be removed in 1.2. Please use get_feature_names_out instead.\n",
      "  warnings.warn(msg, category=FutureWarning)\n"
     ]
    }
   ],
   "source": [
    "# most important words for each topic\n",
    "vocab = vect.get_feature_names()\n",
    "\n",
    "for i, comp in enumerate(lsa_model.components_):\n",
    "    vocab_comp = zip(vocab, comp)\n",
    "    sorted_words = sorted(vocab_comp, key= lambda x:x[1], reverse=True)[:10]\n",
    "    print(\"Topic \"+str(i)+\": \")\n",
    "    for t in sorted_words:\n",
    "        print(t[0],end=\" \")\n",
    "    print(\"\\n\")\n",
    "         "
   ]
  }
 ],
 "metadata": {
  "colab": {
   "collapsed_sections": [],
   "name": "PPW.ipynb",
   "provenance": []
  },
  "kernelspec": {
   "display_name": "Python 3",
   "name": "python3"
  },
  "language_info": {
   "codemirror_mode": {
    "name": "ipython",
    "version": 3
   },
   "file_extension": ".py",
   "mimetype": "text/x-python",
   "name": "python",
   "nbconvert_exporter": "python",
   "pygments_lexer": "ipython3",
   "version": "3.8.5"
  }
 },
 "nbformat": 4,
 "nbformat_minor": 0
}